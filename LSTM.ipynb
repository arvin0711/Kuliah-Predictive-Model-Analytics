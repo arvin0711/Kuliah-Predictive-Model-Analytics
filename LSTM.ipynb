{
  "nbformat": 4,
  "nbformat_minor": 0,
  "metadata": {
    "colab": {
      "provenance": []
    },
    "kernelspec": {
      "name": "python3",
      "display_name": "Python 3"
    },
    "language_info": {
      "name": "python"
    }
  },
  "cells": [
    {
      "cell_type": "markdown",
      "source": [
        "# Import Library"
      ],
      "metadata": {
        "id": "JNUKGbBoa2JU"
      }
    },
    {
      "cell_type": "code",
      "execution_count": null,
      "metadata": {
        "id": "QFV_SNPuAA42"
      },
      "outputs": [],
      "source": [
        "#Load Library\n",
        "import numpy as np\n",
        "from tensorflow.keras.models import Sequential\n",
        "from tensorflow.keras.layers import LSTM\n",
        "from tensorflow.keras.layers import Dense, Dropout\n",
        "import pandas as pd\n",
        "from matplotlib import pyplot as plt\n",
        "from sklearn.preprocessing import StandardScaler\n",
        "from sklearn.model_selection import train_test_split\n",
        "import seaborn as sns\n",
        "from sklearn.metrics import mean_absolute_error, mean_squared_error\n",
        "from sklearn.metrics import r2_score\n",
        "from sklearn.preprocessing import MinMaxScaler\n",
        "from sklearn import preprocessing\n",
        "from keras.layers import LeakyReLU\n",
        "from sklearn.model_selection import GridSearchCV\n",
        "from keras.constraints import MaxNorm\n",
        "from tabulate import tabulate\n",
        "from keras.callbacks import EarlyStopping"
      ]
    },
    {
      "cell_type": "code",
      "source": [
        "\n",
        "import pandas as pd\n",
        "import numpy as np\n",
        "from sklearn.model_selection import GridSearchCV\n",
        "from sklearn.datasets import fetch_california_housing\n",
        "from sklearn.utils import shuffle\n",
        "from sklearn.svm import SVR\n"
      ],
      "metadata": {
        "id": "FGImY68ZV8D-"
      },
      "execution_count": null,
      "outputs": []
    },
    {
      "cell_type": "code",
      "source": [
        "#from google.colab import files\n",
        "#ploaded = files.upload()"
      ],
      "metadata": {
        "id": "Yw3nxzC0AJ6I"
      },
      "execution_count": null,
      "outputs": []
    },
    {
      "cell_type": "markdown",
      "source": [
        "# Load Dataset"
      ],
      "metadata": {
        "id": "W5XGSviq_R-k"
      }
    },
    {
      "cell_type": "code",
      "source": [
        "data = pd.read_csv('https://raw.githubusercontent.com/arvin0711/Kuliah-Predictive-Model-Analytics/main/Jakarta%202015%20-%202022.csv') #, index_col='datetime', parse_dates=['datetime'])\n",
        "data_original = data.copy()\n",
        "train_datetime = pd.to_datetime(data['datetime'])\n",
        "data = data.set_index('datetime')\n",
        "\n",
        "data.head()"
      ],
      "metadata": {
        "colab": {
          "base_uri": "https://localhost:8080/",
          "height": 237
        },
        "id": "gSiIM2rOANX-",
        "outputId": "2881f473-b89e-405a-c781-05bc0a58f5e4"
      },
      "execution_count": null,
      "outputs": [
        {
          "output_type": "execute_result",
          "data": {
            "text/plain": [
              "          total_visitor  total_accomodation\n",
              "datetime                                   \n",
              "1/1/2014         193017               16332\n",
              "2/1/2014         185851               17101\n",
              "3/1/2014         204004               17438\n",
              "4/1/2014         186373               17943\n",
              "5/1/2014         190716               18123"
            ],
            "text/html": [
              "\n",
              "  <div id=\"df-c3e329fb-508b-4cff-8ec9-59dd58d0fa7a\" class=\"colab-df-container\">\n",
              "    <div>\n",
              "<style scoped>\n",
              "    .dataframe tbody tr th:only-of-type {\n",
              "        vertical-align: middle;\n",
              "    }\n",
              "\n",
              "    .dataframe tbody tr th {\n",
              "        vertical-align: top;\n",
              "    }\n",
              "\n",
              "    .dataframe thead th {\n",
              "        text-align: right;\n",
              "    }\n",
              "</style>\n",
              "<table border=\"1\" class=\"dataframe\">\n",
              "  <thead>\n",
              "    <tr style=\"text-align: right;\">\n",
              "      <th></th>\n",
              "      <th>total_visitor</th>\n",
              "      <th>total_accomodation</th>\n",
              "    </tr>\n",
              "    <tr>\n",
              "      <th>datetime</th>\n",
              "      <th></th>\n",
              "      <th></th>\n",
              "    </tr>\n",
              "  </thead>\n",
              "  <tbody>\n",
              "    <tr>\n",
              "      <th>1/1/2014</th>\n",
              "      <td>193017</td>\n",
              "      <td>16332</td>\n",
              "    </tr>\n",
              "    <tr>\n",
              "      <th>2/1/2014</th>\n",
              "      <td>185851</td>\n",
              "      <td>17101</td>\n",
              "    </tr>\n",
              "    <tr>\n",
              "      <th>3/1/2014</th>\n",
              "      <td>204004</td>\n",
              "      <td>17438</td>\n",
              "    </tr>\n",
              "    <tr>\n",
              "      <th>4/1/2014</th>\n",
              "      <td>186373</td>\n",
              "      <td>17943</td>\n",
              "    </tr>\n",
              "    <tr>\n",
              "      <th>5/1/2014</th>\n",
              "      <td>190716</td>\n",
              "      <td>18123</td>\n",
              "    </tr>\n",
              "  </tbody>\n",
              "</table>\n",
              "</div>\n",
              "    <div class=\"colab-df-buttons\">\n",
              "\n",
              "  <div class=\"colab-df-container\">\n",
              "    <button class=\"colab-df-convert\" onclick=\"convertToInteractive('df-c3e329fb-508b-4cff-8ec9-59dd58d0fa7a')\"\n",
              "            title=\"Convert this dataframe to an interactive table.\"\n",
              "            style=\"display:none;\">\n",
              "\n",
              "  <svg xmlns=\"http://www.w3.org/2000/svg\" height=\"24px\" viewBox=\"0 -960 960 960\">\n",
              "    <path d=\"M120-120v-720h720v720H120Zm60-500h600v-160H180v160Zm220 220h160v-160H400v160Zm0 220h160v-160H400v160ZM180-400h160v-160H180v160Zm440 0h160v-160H620v160ZM180-180h160v-160H180v160Zm440 0h160v-160H620v160Z\"/>\n",
              "  </svg>\n",
              "    </button>\n",
              "\n",
              "  <style>\n",
              "    .colab-df-container {\n",
              "      display:flex;\n",
              "      gap: 12px;\n",
              "    }\n",
              "\n",
              "    .colab-df-convert {\n",
              "      background-color: #E8F0FE;\n",
              "      border: none;\n",
              "      border-radius: 50%;\n",
              "      cursor: pointer;\n",
              "      display: none;\n",
              "      fill: #1967D2;\n",
              "      height: 32px;\n",
              "      padding: 0 0 0 0;\n",
              "      width: 32px;\n",
              "    }\n",
              "\n",
              "    .colab-df-convert:hover {\n",
              "      background-color: #E2EBFA;\n",
              "      box-shadow: 0px 1px 2px rgba(60, 64, 67, 0.3), 0px 1px 3px 1px rgba(60, 64, 67, 0.15);\n",
              "      fill: #174EA6;\n",
              "    }\n",
              "\n",
              "    .colab-df-buttons div {\n",
              "      margin-bottom: 4px;\n",
              "    }\n",
              "\n",
              "    [theme=dark] .colab-df-convert {\n",
              "      background-color: #3B4455;\n",
              "      fill: #D2E3FC;\n",
              "    }\n",
              "\n",
              "    [theme=dark] .colab-df-convert:hover {\n",
              "      background-color: #434B5C;\n",
              "      box-shadow: 0px 1px 3px 1px rgba(0, 0, 0, 0.15);\n",
              "      filter: drop-shadow(0px 1px 2px rgba(0, 0, 0, 0.3));\n",
              "      fill: #FFFFFF;\n",
              "    }\n",
              "  </style>\n",
              "\n",
              "    <script>\n",
              "      const buttonEl =\n",
              "        document.querySelector('#df-c3e329fb-508b-4cff-8ec9-59dd58d0fa7a button.colab-df-convert');\n",
              "      buttonEl.style.display =\n",
              "        google.colab.kernel.accessAllowed ? 'block' : 'none';\n",
              "\n",
              "      async function convertToInteractive(key) {\n",
              "        const element = document.querySelector('#df-c3e329fb-508b-4cff-8ec9-59dd58d0fa7a');\n",
              "        const dataTable =\n",
              "          await google.colab.kernel.invokeFunction('convertToInteractive',\n",
              "                                                    [key], {});\n",
              "        if (!dataTable) return;\n",
              "\n",
              "        const docLinkHtml = 'Like what you see? Visit the ' +\n",
              "          '<a target=\"_blank\" href=https://colab.research.google.com/notebooks/data_table.ipynb>data table notebook</a>'\n",
              "          + ' to learn more about interactive tables.';\n",
              "        element.innerHTML = '';\n",
              "        dataTable['output_type'] = 'display_data';\n",
              "        await google.colab.output.renderOutput(dataTable, element);\n",
              "        const docLink = document.createElement('div');\n",
              "        docLink.innerHTML = docLinkHtml;\n",
              "        element.appendChild(docLink);\n",
              "      }\n",
              "    </script>\n",
              "  </div>\n",
              "\n",
              "\n",
              "<div id=\"df-747fd523-21da-4043-886b-2892eec56511\">\n",
              "  <button class=\"colab-df-quickchart\" onclick=\"quickchart('df-747fd523-21da-4043-886b-2892eec56511')\"\n",
              "            title=\"Suggest charts\"\n",
              "            style=\"display:none;\">\n",
              "\n",
              "<svg xmlns=\"http://www.w3.org/2000/svg\" height=\"24px\"viewBox=\"0 0 24 24\"\n",
              "     width=\"24px\">\n",
              "    <g>\n",
              "        <path d=\"M19 3H5c-1.1 0-2 .9-2 2v14c0 1.1.9 2 2 2h14c1.1 0 2-.9 2-2V5c0-1.1-.9-2-2-2zM9 17H7v-7h2v7zm4 0h-2V7h2v10zm4 0h-2v-4h2v4z\"/>\n",
              "    </g>\n",
              "</svg>\n",
              "  </button>\n",
              "\n",
              "<style>\n",
              "  .colab-df-quickchart {\n",
              "      --bg-color: #E8F0FE;\n",
              "      --fill-color: #1967D2;\n",
              "      --hover-bg-color: #E2EBFA;\n",
              "      --hover-fill-color: #174EA6;\n",
              "      --disabled-fill-color: #AAA;\n",
              "      --disabled-bg-color: #DDD;\n",
              "  }\n",
              "\n",
              "  [theme=dark] .colab-df-quickchart {\n",
              "      --bg-color: #3B4455;\n",
              "      --fill-color: #D2E3FC;\n",
              "      --hover-bg-color: #434B5C;\n",
              "      --hover-fill-color: #FFFFFF;\n",
              "      --disabled-bg-color: #3B4455;\n",
              "      --disabled-fill-color: #666;\n",
              "  }\n",
              "\n",
              "  .colab-df-quickchart {\n",
              "    background-color: var(--bg-color);\n",
              "    border: none;\n",
              "    border-radius: 50%;\n",
              "    cursor: pointer;\n",
              "    display: none;\n",
              "    fill: var(--fill-color);\n",
              "    height: 32px;\n",
              "    padding: 0;\n",
              "    width: 32px;\n",
              "  }\n",
              "\n",
              "  .colab-df-quickchart:hover {\n",
              "    background-color: var(--hover-bg-color);\n",
              "    box-shadow: 0 1px 2px rgba(60, 64, 67, 0.3), 0 1px 3px 1px rgba(60, 64, 67, 0.15);\n",
              "    fill: var(--button-hover-fill-color);\n",
              "  }\n",
              "\n",
              "  .colab-df-quickchart-complete:disabled,\n",
              "  .colab-df-quickchart-complete:disabled:hover {\n",
              "    background-color: var(--disabled-bg-color);\n",
              "    fill: var(--disabled-fill-color);\n",
              "    box-shadow: none;\n",
              "  }\n",
              "\n",
              "  .colab-df-spinner {\n",
              "    border: 2px solid var(--fill-color);\n",
              "    border-color: transparent;\n",
              "    border-bottom-color: var(--fill-color);\n",
              "    animation:\n",
              "      spin 1s steps(1) infinite;\n",
              "  }\n",
              "\n",
              "  @keyframes spin {\n",
              "    0% {\n",
              "      border-color: transparent;\n",
              "      border-bottom-color: var(--fill-color);\n",
              "      border-left-color: var(--fill-color);\n",
              "    }\n",
              "    20% {\n",
              "      border-color: transparent;\n",
              "      border-left-color: var(--fill-color);\n",
              "      border-top-color: var(--fill-color);\n",
              "    }\n",
              "    30% {\n",
              "      border-color: transparent;\n",
              "      border-left-color: var(--fill-color);\n",
              "      border-top-color: var(--fill-color);\n",
              "      border-right-color: var(--fill-color);\n",
              "    }\n",
              "    40% {\n",
              "      border-color: transparent;\n",
              "      border-right-color: var(--fill-color);\n",
              "      border-top-color: var(--fill-color);\n",
              "    }\n",
              "    60% {\n",
              "      border-color: transparent;\n",
              "      border-right-color: var(--fill-color);\n",
              "    }\n",
              "    80% {\n",
              "      border-color: transparent;\n",
              "      border-right-color: var(--fill-color);\n",
              "      border-bottom-color: var(--fill-color);\n",
              "    }\n",
              "    90% {\n",
              "      border-color: transparent;\n",
              "      border-bottom-color: var(--fill-color);\n",
              "    }\n",
              "  }\n",
              "</style>\n",
              "\n",
              "  <script>\n",
              "    async function quickchart(key) {\n",
              "      const quickchartButtonEl =\n",
              "        document.querySelector('#' + key + ' button');\n",
              "      quickchartButtonEl.disabled = true;  // To prevent multiple clicks.\n",
              "      quickchartButtonEl.classList.add('colab-df-spinner');\n",
              "      try {\n",
              "        const charts = await google.colab.kernel.invokeFunction(\n",
              "            'suggestCharts', [key], {});\n",
              "      } catch (error) {\n",
              "        console.error('Error during call to suggestCharts:', error);\n",
              "      }\n",
              "      quickchartButtonEl.classList.remove('colab-df-spinner');\n",
              "      quickchartButtonEl.classList.add('colab-df-quickchart-complete');\n",
              "    }\n",
              "    (() => {\n",
              "      let quickchartButtonEl =\n",
              "        document.querySelector('#df-747fd523-21da-4043-886b-2892eec56511 button');\n",
              "      quickchartButtonEl.style.display =\n",
              "        google.colab.kernel.accessAllowed ? 'block' : 'none';\n",
              "    })();\n",
              "  </script>\n",
              "</div>\n",
              "    </div>\n",
              "  </div>\n"
            ]
          },
          "metadata": {},
          "execution_count": 4
        }
      ]
    },
    {
      "cell_type": "code",
      "source": [
        "scaler = StandardScaler()\n",
        "data = pd.DataFrame(scaler.fit_transform(data), columns=data.columns)"
      ],
      "metadata": {
        "id": "vEUnFvCQBy-2"
      },
      "execution_count": null,
      "outputs": []
    },
    {
      "cell_type": "code",
      "source": [
        "data.isna().sum()"
      ],
      "metadata": {
        "colab": {
          "base_uri": "https://localhost:8080/"
        },
        "id": "_6l0M--sA4NY",
        "outputId": "1f05b080-922b-4f42-9469-b03842e3b8a8"
      },
      "execution_count": null,
      "outputs": [
        {
          "output_type": "execute_result",
          "data": {
            "text/plain": [
              "total_visitor         0\n",
              "total_accomodation    0\n",
              "dtype: int64"
            ]
          },
          "metadata": {},
          "execution_count": 6
        }
      ]
    },
    {
      "cell_type": "code",
      "source": [
        "data.plot(figsize=(16,4),legend=True)\n",
        "plt.title('Total Visitor & Accomodation  - BEFORE NORMALIZATION')\n",
        "plt.show()"
      ],
      "metadata": {
        "colab": {
          "base_uri": "https://localhost:8080/",
          "height": 391
        },
        "id": "bUVmcDi5A-vg",
        "outputId": "785a6e45-1ab4-4d82-9129-948cb8204b3e"
      },
      "execution_count": null,
      "outputs": [
        {
          "output_type": "display_data",
          "data": {
            "text/plain": [
              "<Figure size 1600x400 with 1 Axes>"
            ],
            "image/png": "[encoded data removed]"
          },
          "metadata": {}
        }
      ]
    },
    {
      "cell_type": "code",
      "source": [],
      "metadata": {
        "id": "1bSEtoUSwZX8"
      },
      "execution_count": null,
      "outputs": []
    },
    {
      "cell_type": "markdown",
      "source": [
        "\n",
        "\n",
        "```\n",
        "# This is formatted as code\n",
        "```\n",
        "\n",
        "### Normalisasi"
      ],
      "metadata": {
        "id": "X14TF3mySFrG"
      }
    },
    {
      "cell_type": "code",
      "source": [
        "\"\"\"def normalize_fn(data, columns):\n",
        "    scaler_object = sklearn.preprocessing.MinMaxScaler()\n",
        "\n",
        "    for col in columns:\n",
        "        data[col] = scaler_object.fit_transform(data[col].values.reshape(-1, 1))\n",
        "\n",
        "    return data\n",
        "\"\"\"\n"
      ],
      "metadata": {
        "id": "mRKyI9MDtyuG",
        "colab": {
          "base_uri": "https://localhost:8080/",
          "height": 53
        },
        "outputId": "656a0b51-707c-4544-bdf7-f8c4fbffc059"
      },
      "execution_count": null,
      "outputs": [
        {
          "output_type": "execute_result",
          "data": {
            "text/plain": [
              "'def normalize_fn(data, columns):\\n    scaler_object = sklearn.preprocessing.MinMaxScaler()\\n\\n    for col in columns:\\n        data[col] = scaler_object.fit_transform(data[col].values.reshape(-1, 1))\\n\\n    return data\\n'"
            ],
            "application/vnd.google.colaboratory.intrinsic+json": {
              "type": "string"
            }
          },
          "metadata": {},
          "execution_count": 8
        }
      ]
    },
    {
      "cell_type": "markdown",
      "source": [
        "# Normalisasi"
      ],
      "metadata": {
        "id": "BXgaEdx0b1GT"
      }
    },
    {
      "cell_type": "code",
      "source": [
        "from sklearn.preprocessing import MinMaxScaler\n",
        "\n",
        "def normalize_fn(data, columns):\n",
        "    scaler_object = MinMaxScaler()\n",
        "\n",
        "    for col in columns:\n",
        "        data[col] = scaler_object.fit_transform(data[col].values.reshape(-1, 1))\n",
        "\n",
        "    return data\n",
        "\n",
        "columns_to_normalize = ['total_visitor', 'total_accomodation']\n",
        "data_norm = normalize_fn(data, columns_to_normalize)\n",
        "data_norm"
      ],
      "metadata": {
        "colab": {
          "base_uri": "https://localhost:8080/",
          "height": 423
        },
        "id": "boz9ULqzLF0e",
        "outputId": "733ab9e2-5663-4006-9dc0-ae6cb2c714c9"
      },
      "execution_count": null,
      "outputs": [
        {
          "output_type": "execute_result",
          "data": {
            "text/plain": [
              "     total_visitor  total_accomodation\n",
              "0         0.625267            0.000000\n",
              "1         0.602004            0.014015\n",
              "2         0.660936            0.020156\n",
              "3         0.603698            0.029360\n",
              "4         0.617797            0.032640\n",
              "..             ...                 ...\n",
              "103       0.392893            0.951997\n",
              "104       0.359458            0.966813\n",
              "105       0.364162            0.971260\n",
              "106       0.368610            0.975215\n",
              "107       0.403012            1.000000\n",
              "\n",
              "[108 rows x 2 columns]"
            ],
            "text/html": [
              "\n",
              "  <div id=\"df-92b36a90-6c8e-41f2-be57-780b00e6e276\" class=\"colab-df-container\">\n",
              "    <div>\n",
              "<style scoped>\n",
              "    .dataframe tbody tr th:only-of-type {\n",
              "        vertical-align: middle;\n",
              "    }\n",
              "\n",
              "    .dataframe tbody tr th {\n",
              "        vertical-align: top;\n",
              "    }\n",
              "\n",
              "    .dataframe thead th {\n",
              "        text-align: right;\n",
              "    }\n",
              "</style>\n",
              "<table border=\"1\" class=\"dataframe\">\n",
              "  <thead>\n",
              "    <tr style=\"text-align: right;\">\n",
              "      <th></th>\n",
              "      <th>total_visitor</th>\n",
              "      <th>total_accomodation</th>\n",
              "    </tr>\n",
              "  </thead>\n",
              "  <tbody>\n",
              "    <tr>\n",
              "      <th>0</th>\n",
              "      <td>0.625267</td>\n",
              "      <td>0.000000</td>\n",
              "    </tr>\n",
              "    <tr>\n",
              "      <th>1</th>\n",
              "      <td>0.602004</td>\n",
              "      <td>0.014015</td>\n",
              "    </tr>\n",
              "    <tr>\n",
              "      <th>2</th>\n",
              "      <td>0.660936</td>\n",
              "      <td>0.020156</td>\n",
              "    </tr>\n",
              "    <tr>\n",
              "      <th>3</th>\n",
              "      <td>0.603698</td>\n",
              "      <td>0.029360</td>\n",
              "    </tr>\n",
              "    <tr>\n",
              "      <th>4</th>\n",
              "      <td>0.617797</td>\n",
              "      <td>0.032640</td>\n",
              "    </tr>\n",
              "    <tr>\n",
              "      <th>...</th>\n",
              "      <td>...</td>\n",
              "      <td>...</td>\n",
              "    </tr>\n",
              "    <tr>\n",
              "      <th>103</th>\n",
              "      <td>0.392893</td>\n",
              "      <td>0.951997</td>\n",
              "    </tr>\n",
              "    <tr>\n",
              "      <th>104</th>\n",
              "      <td>0.359458</td>\n",
              "      <td>0.966813</td>\n",
              "    </tr>\n",
              "    <tr>\n",
              "      <th>105</th>\n",
              "      <td>0.364162</td>\n",
              "      <td>0.971260</td>\n",
              "    </tr>\n",
              "    <tr>\n",
              "      <th>106</th>\n",
              "      <td>0.368610</td>\n",
              "      <td>0.975215</td>\n",
              "    </tr>\n",
              "    <tr>\n",
              "      <th>107</th>\n",
              "      <td>0.403012</td>\n",
              "      <td>1.000000</td>\n",
              "    </tr>\n",
              "  </tbody>\n",
              "</table>\n",
              "<p>108 rows × 2 columns</p>\n",
              "</div>\n",
              "    <div class=\"colab-df-buttons\">\n",
              "\n",
              "  <div class=\"colab-df-container\">\n",
              "    <button class=\"colab-df-convert\" onclick=\"convertToInteractive('df-92b36a90-6c8e-41f2-be57-780b00e6e276')\"\n",
              "            title=\"Convert this dataframe to an interactive table.\"\n",
              "            style=\"display:none;\">\n",
              "\n",
              "  <svg xmlns=\"http://www.w3.org/2000/svg\" height=\"24px\" viewBox=\"0 -960 960 960\">\n",
              "    <path d=\"M120-120v-720h720v720H120Zm60-500h600v-160H180v160Zm220 220h160v-160H400v160Zm0 220h160v-160H400v160ZM180-400h160v-160H180v160Zm440 0h160v-160H620v160ZM180-180h160v-160H180v160Zm440 0h160v-160H620v160Z\"/>\n",
              "  </svg>\n",
              "    </button>\n",
              "\n",
              "  <style>\n",
              "    .colab-df-container {\n",
              "      display:flex;\n",
              "      gap: 12px;\n",
              "    }\n",
              "\n",
              "    .colab-df-convert {\n",
              "      background-color: #E8F0FE;\n",
              "      border: none;\n",
              "      border-radius: 50%;\n",
              "      cursor: pointer;\n",
              "      display: none;\n",
              "      fill: #1967D2;\n",
              "      height: 32px;\n",
              "      padding: 0 0 0 0;\n",
              "      width: 32px;\n",
              "    }\n",
              "\n",
              "    .colab-df-convert:hover {\n",
              "      background-color: #E2EBFA;\n",
              "      box-shadow: 0px 1px 2px rgba(60, 64, 67, 0.3), 0px 1px 3px 1px rgba(60, 64, 67, 0.15);\n",
              "      fill: #174EA6;\n",
              "    }\n",
              "\n",
              "    .colab-df-buttons div {\n",
              "      margin-bottom: 4px;\n",
              "    }\n",
              "\n",
              "    [theme=dark] .colab-df-convert {\n",
              "      background-color: #3B4455;\n",
              "      fill: #D2E3FC;\n",
              "    }\n",
              "\n",
              "    [theme=dark] .colab-df-convert:hover {\n",
              "      background-color: #434B5C;\n",
              "      box-shadow: 0px 1px 3px 1px rgba(0, 0, 0, 0.15);\n",
              "      filter: drop-shadow(0px 1px 2px rgba(0, 0, 0, 0.3));\n",
              "      fill: #FFFFFF;\n",
              "    }\n",
              "  </style>\n",
              "\n",
              "    <script>\n",
              "      const buttonEl =\n",
              "        document.querySelector('#df-92b36a90-6c8e-41f2-be57-780b00e6e276 button.colab-df-convert');\n",
              "      buttonEl.style.display =\n",
              "        google.colab.kernel.accessAllowed ? 'block' : 'none';\n",
              "\n",
              "      async function convertToInteractive(key) {\n",
              "        const element = document.querySelector('#df-92b36a90-6c8e-41f2-be57-780b00e6e276');\n",
              "        const dataTable =\n",
              "          await google.colab.kernel.invokeFunction('convertToInteractive',\n",
              "                                                    [key], {});\n",
              "        if (!dataTable) return;\n",
              "\n",
              "        const docLinkHtml = 'Like what you see? Visit the ' +\n",
              "          '<a target=\"_blank\" href=https://colab.research.google.com/notebooks/data_table.ipynb>data table notebook</a>'\n",
              "          + ' to learn more about interactive tables.';\n",
              "        element.innerHTML = '';\n",
              "        dataTable['output_type'] = 'display_data';\n",
              "        await google.colab.output.renderOutput(dataTable, element);\n",
              "        const docLink = document.createElement('div');\n",
              "        docLink.innerHTML = docLinkHtml;\n",
              "        element.appendChild(docLink);\n",
              "      }\n",
              "    </script>\n",
              "  </div>\n",
              "\n",
              "\n",
              "<div id=\"df-18946e5b-9c9a-4be7-a619-514e1a9922d1\">\n",
              "  <button class=\"colab-df-quickchart\" onclick=\"quickchart('df-18946e5b-9c9a-4be7-a619-514e1a9922d1')\"\n",
              "            title=\"Suggest charts\"\n",
              "            style=\"display:none;\">\n",
              "\n",
              "<svg xmlns=\"http://www.w3.org/2000/svg\" height=\"24px\"viewBox=\"0 0 24 24\"\n",
              "     width=\"24px\">\n",
              "    <g>\n",
              "        <path d=\"M19 3H5c-1.1 0-2 .9-2 2v14c0 1.1.9 2 2 2h14c1.1 0 2-.9 2-2V5c0-1.1-.9-2-2-2zM9 17H7v-7h2v7zm4 0h-2V7h2v10zm4 0h-2v-4h2v4z\"/>\n",
              "    </g>\n",
              "</svg>\n",
              "  </button>\n",
              "\n",
              "<style>\n",
              "  .colab-df-quickchart {\n",
              "      --bg-color: #E8F0FE;\n",
              "      --fill-color: #1967D2;\n",
              "      --hover-bg-color: #E2EBFA;\n",
              "      --hover-fill-color: #174EA6;\n",
              "      --disabled-fill-color: #AAA;\n",
              "      --disabled-bg-color: #DDD;\n",
              "  }\n",
              "\n",
              "  [theme=dark] .colab-df-quickchart {\n",
              "      --bg-color: #3B4455;\n",
              "      --fill-color: #D2E3FC;\n",
              "      --hover-bg-color: #434B5C;\n",
              "      --hover-fill-color: #FFFFFF;\n",
              "      --disabled-bg-color: #3B4455;\n",
              "      --disabled-fill-color: #666;\n",
              "  }\n",
              "\n",
              "  .colab-df-quickchart {\n",
              "    background-color: var(--bg-color);\n",
              "    border: none;\n",
              "    border-radius: 50%;\n",
              "    cursor: pointer;\n",
              "    display: none;\n",
              "    fill: var(--fill-color);\n",
              "    height: 32px;\n",
              "    padding: 0;\n",
              "    width: 32px;\n",
              "  }\n",
              "\n",
              "  .colab-df-quickchart:hover {\n",
              "    background-color: var(--hover-bg-color);\n",
              "    box-shadow: 0 1px 2px rgba(60, 64, 67, 0.3), 0 1px 3px 1px rgba(60, 64, 67, 0.15);\n",
              "    fill: var(--button-hover-fill-color);\n",
              "  }\n",
              "\n",
              "  .colab-df-quickchart-complete:disabled,\n",
              "  .colab-df-quickchart-complete:disabled:hover {\n",
              "    background-color: var(--disabled-bg-color);\n",
              "    fill: var(--disabled-fill-color);\n",
              "    box-shadow: none;\n",
              "  }\n",
              "\n",
              "  .colab-df-spinner {\n",
              "    border: 2px solid var(--fill-color);\n",
              "    border-color: transparent;\n",
              "    border-bottom-color: var(--fill-color);\n",
              "    animation:\n",
              "      spin 1s steps(1) infinite;\n",
              "  }\n",
              "\n",
              "  @keyframes spin {\n",
              "    0% {\n",
              "      border-color: transparent;\n",
              "      border-bottom-color: var(--fill-color);\n",
              "      border-left-color: var(--fill-color);\n",
              "    }\n",
              "    20% {\n",
              "      border-color: transparent;\n",
              "      border-left-color: var(--fill-color);\n",
              "      border-top-color: var(--fill-color);\n",
              "    }\n",
              "    30% {\n",
              "      border-color: transparent;\n",
              "      border-left-color: var(--fill-color);\n",
              "      border-top-color: var(--fill-color);\n",
              "      border-right-color: var(--fill-color);\n",
              "    }\n",
              "    40% {\n",
              "      border-color: transparent;\n",
              "      border-right-color: var(--fill-color);\n",
              "      border-top-color: var(--fill-color);\n",
              "    }\n",
              "    60% {\n",
              "      border-color: transparent;\n",
              "      border-right-color: var(--fill-color);\n",
              "    }\n",
              "    80% {\n",
              "      border-color: transparent;\n",
              "      border-right-color: var(--fill-color);\n",
              "      border-bottom-color: var(--fill-color);\n",
              "    }\n",
              "    90% {\n",
              "      border-color: transparent;\n",
              "      border-bottom-color: var(--fill-color);\n",
              "    }\n",
              "  }\n",
              "</style>\n",
              "\n",
              "  <script>\n",
              "    async function quickchart(key) {\n",
              "      const quickchartButtonEl =\n",
              "        document.querySelector('#' + key + ' button');\n",
              "      quickchartButtonEl.disabled = true;  // To prevent multiple clicks.\n",
              "      quickchartButtonEl.classList.add('colab-df-spinner');\n",
              "      try {\n",
              "        const charts = await google.colab.kernel.invokeFunction(\n",
              "            'suggestCharts', [key], {});\n",
              "      } catch (error) {\n",
              "        console.error('Error during call to suggestCharts:', error);\n",
              "      }\n",
              "      quickchartButtonEl.classList.remove('colab-df-spinner');\n",
              "      quickchartButtonEl.classList.add('colab-df-quickchart-complete');\n",
              "    }\n",
              "    (() => {\n",
              "      let quickchartButtonEl =\n",
              "        document.querySelector('#df-18946e5b-9c9a-4be7-a619-514e1a9922d1 button');\n",
              "      quickchartButtonEl.style.display =\n",
              "        google.colab.kernel.accessAllowed ? 'block' : 'none';\n",
              "    })();\n",
              "  </script>\n",
              "</div>\n",
              "    </div>\n",
              "  </div>\n"
            ]
          },
          "metadata": {},
          "execution_count": 9
        }
      ]
    },
    {
      "cell_type": "code",
      "source": [
        "#from sklearn.preprocessing import MinMaxScaler\n",
        "\"\"\"columns_to_normalize = ['total_visitor', 'total_accomodation']\n",
        "data_norm = normalize_fn(data, columns_to_normalize)\n",
        "data_norm\"\"\""
      ],
      "metadata": {
        "colab": {
          "base_uri": "https://localhost:8080/",
          "height": 36
        },
        "id": "n9YulfcBSyYC",
        "outputId": "d822df20-7593-4e14-e6bd-2c95846b7672"
      },
      "execution_count": null,
      "outputs": [
        {
          "output_type": "execute_result",
          "data": {
            "text/plain": [
              "\"columns_to_normalize = ['total_visitor', 'total_accomodation']\\ndata_norm = normalize_fn(data, columns_to_normalize)\\ndata_norm\""
            ],
            "application/vnd.google.colaboratory.intrinsic+json": {
              "type": "string"
            }
          },
          "metadata": {},
          "execution_count": 10
        }
      ]
    },
    {
      "cell_type": "code",
      "source": [
        "data_norm.plot(figsize=(16,4),legend=True)\n",
        "plt.title('Total Visitor & Accomodation - AFTER NORMALIZATION')\n",
        "plt.show()"
      ],
      "metadata": {
        "colab": {
          "base_uri": "https://localhost:8080/",
          "height": 391
        },
        "id": "kbk62mdElpKT",
        "outputId": "8d641099-99d5-495e-b747-c297b458e15f"
      },
      "execution_count": null,
      "outputs": [
        {
          "output_type": "display_data",
          "data": {
            "text/plain": [
              "<Figure size 1600x400 with 1 Axes>"
            ],
            "image/png": "[encoded data removed]"
          },
          "metadata": {}
        }
      ]
    },
    {
      "cell_type": "markdown",
      "source": [
        "# LTSM"
      ],
      "metadata": {
        "id": "XOeB6HBGLOuf"
      }
    },
    {
      "cell_type": "markdown",
      "source": [
        "# Menetukan features (variabel independen) dan target (variabel dependen)"
      ],
      "metadata": {
        "id": "Z3nLNwVOcH3_"
      }
    },
    {
      "cell_type": "code",
      "source": [
        "X = data_norm.iloc[:, [1]].values\n",
        "y = data_norm.iloc[:, 0].values"
      ],
      "metadata": {
        "id": "tJSascdclWS3"
      },
      "execution_count": null,
      "outputs": []
    },
    {
      "cell_type": "code",
      "source": [
        "def data_prep(data, sequence_length):\n",
        "    X = []\n",
        "    y = []\n",
        "\n",
        "    for i in range(len(data) - sequence_length):\n",
        "        X.append(data[i:i + sequence_length])\n",
        "        y.append(data[i + sequence_length])\n",
        "\n",
        "    return np.array(X), np.array(y)"
      ],
      "metadata": {
        "id": "s8RyYg6INPE8"
      },
      "execution_count": null,
      "outputs": []
    },
    {
      "cell_type": "markdown",
      "source": [
        "# Skenario 1 - 80:20"
      ],
      "metadata": {
        "id": "jCHOOmnbq8sl"
      }
    },
    {
      "cell_type": "code",
      "source": [
        "#splitting data\n",
        "from sklearn.model_selection import train_test_split\n",
        "X_train, X_test, y_train, y_test = train_test_split(X, y, test_size = 0.2, shuffle=False)"
      ],
      "metadata": {
        "id": "Alr5hqO4hnKR"
      },
      "execution_count": null,
      "outputs": []
    },
    {
      "cell_type": "code",
      "source": [
        " #Display results\n",
        "lengths = {\n",
        "    'X_train': len(X_train),\n",
        "    'y_train': len(y_train),\n",
        "    'X_test': len(X_test),\n",
        "    'y_test': len(y_test),\n",
        "}\n",
        "\n",
        " #Convert lengths to a Pandas DataFrame\n",
        "lengths_df = pd.DataFrame.from_dict(lengths, orient='index', columns=['Length'])\n",
        "\n",
        "print(lengths_df)\n"
      ],
      "metadata": {
        "colab": {
          "base_uri": "https://localhost:8080/"
        },
        "id": "oD1OR5vCtiJ2",
        "outputId": "b94f42b9-0527-474e-e273-eda51c26e9fb"
      },
      "execution_count": null,
      "outputs": [
        {
          "output_type": "stream",
          "name": "stdout",
          "text": [
            "         Length\n",
            "X_train      86\n",
            "y_train      86\n",
            "X_test       22\n",
            "y_test       22\n"
          ]
        }
      ]
    },
    {
      "cell_type": "code",
      "source": [],
      "metadata": {
        "id": "csbuAobCsdTU"
      },
      "execution_count": null,
      "outputs": []
    },
    {
      "cell_type": "code",
      "source": [
        "# Define sequence length\n",
        "sequence_length = 12\n",
        "\n",
        "# Prepare training and testing data\n",
        "X_train, y_train = data_prep(X_train, sequence_length)\n",
        "X_test, y_test= data_prep(X_test, sequence_length)\n",
        "\n",
        "# Reshape the data for the RNN model\n",
        "X_train = X_train.reshape((X_train.shape[0], X_train.shape[1], 1))\n",
        "X_test = X_test.reshape((X_test.shape[0], X_test.shape[1], 1))\n",
        "\n",
        "print('X_train.shape = ', X_train.shape)\n",
        "print('y_train.shape = ', y_train.shape)\n",
        "print('X_test.shape = ', X_test.shape)\n",
        "print('y_test.shape = ', y_test.shape)"
      ],
      "metadata": {
        "id": "yoiN12E-tMez",
        "colab": {
          "base_uri": "https://localhost:8080/"
        },
        "outputId": "08a64b4a-7be9-466e-94aa-7b64404c7311"
      },
      "execution_count": null,
      "outputs": [
        {
          "output_type": "stream",
          "name": "stdout",
          "text": [
            "X_train.shape =  (74, 12, 1)\n",
            "y_train.shape =  (74, 1)\n",
            "X_test.shape =  (10, 12, 1)\n",
            "y_test.shape =  (10, 1)\n"
          ]
        }
      ]
    },
    {
      "cell_type": "code",
      "source": [
        "# Build the LSTM model\n",
        "model = Sequential()\n",
        "\n",
        "# First LSTM layer\n",
        "model.add(LSTM(128, activation='tanh', return_sequences=True, input_shape=(X_train.shape[1], 1))) #\n",
        "\n",
        "# Second LSTM layer\n",
        "model.add(LSTM(16, activation='tanh'))\n",
        "\n",
        "\n",
        "\n",
        "# Output layer\n",
        "model.add(Dense(1))\n",
        "\n",
        "model.compile(optimizer='adam', loss='mse')"
      ],
      "metadata": {
        "id": "zRd2XKcTtycL"
      },
      "execution_count": null,
      "outputs": []
    },
    {
      "cell_type": "code",
      "source": [
        "model.summary()"
      ],
      "metadata": {
        "colab": {
          "base_uri": "https://localhost:8080/"
        },
        "id": "3JuJ4ceViWd7",
        "outputId": "3418a54f-288b-4e4e-d3f6-87cd0d82c77d"
      },
      "execution_count": null,
      "outputs": [
        {
          "output_type": "stream",
          "name": "stdout",
          "text": [
            "Model: \"sequential\"\n",
            "_________________________________________________________________\n",
            " Layer (type)                Output Shape              Param #   \n",
            "=================================================================\n",
            " lstm (LSTM)                 (None, 12, 128)           66560     \n",
            "                                                                 \n",
            " lstm_1 (LSTM)               (None, 16)                9280      \n",
            "                                                                 \n",
            " dense (Dense)               (None, 1)                 17        \n",
            "                                                                 \n",
            "=================================================================\n",
            "Total params: 75857 (296.32 KB)\n",
            "Trainable params: 75857 (296.32 KB)\n",
            "Non-trainable params: 0 (0.00 Byte)\n",
            "_________________________________________________________________\n"
          ]
        }
      ]
    },
    {
      "cell_type": "code",
      "source": [
        "# Define callbacks\n",
        "early_stopping = EarlyStopping(monitor='val_loss', patience=16, restore_best_weights=True)\n",
        "\n",
        "# Train the model\n",
        "history = model.fit(\n",
        "    X_train, y_train,\n",
        "    epochs=25,\n",
        "    batch_size=12,\n",
        "    validation_split=0.2,  # Use part of the training data as validation\n",
        "    callbacks=[early_stopping])"
      ],
      "metadata": {
        "id": "7GwjoyQzt0iw",
        "colab": {
          "base_uri": "https://localhost:8080/"
        },
        "outputId": "8343c30f-68a9-49df-bcc8-498e7818251c"
      },
      "execution_count": null,
      "outputs": [
        {
          "output_type": "stream",
          "name": "stdout",
          "text": [
            "Epoch 1/25\n",
            "5/5 [==============================] - 13s 1s/step - loss: 0.1171 - val_loss: 0.1332\n",
            "Epoch 2/25\n",
            "5/5 [==============================] - 0s 80ms/step - loss: 0.0119 - val_loss: 0.0164\n",
            "Epoch 3/25\n",
            "5/5 [==============================] - 0s 66ms/step - loss: 0.0157 - val_loss: 0.0014\n",
            "Epoch 4/25\n",
            "5/5 [==============================] - 0s 73ms/step - loss: 0.0029 - val_loss: 0.0332\n",
            "Epoch 5/25\n",
            "5/5 [==============================] - 0s 66ms/step - loss: 0.0068 - val_loss: 0.0266\n",
            "Epoch 6/25\n",
            "5/5 [==============================] - 0s 48ms/step - loss: 0.0029 - val_loss: 0.0032\n",
            "Epoch 7/25\n",
            "5/5 [==============================] - 0s 60ms/step - loss: 0.0018 - val_loss: 1.7334e-04\n",
            "Epoch 8/25\n",
            "5/5 [==============================] - 0s 46ms/step - loss: 0.0016 - val_loss: 0.0012\n",
            "Epoch 9/25\n",
            "5/5 [==============================] - 0s 65ms/step - loss: 5.0887e-04 - val_loss: 0.0045\n",
            "Epoch 10/25\n",
            "5/5 [==============================] - 0s 47ms/step - loss: 6.8252e-04 - val_loss: 0.0016\n",
            "Epoch 11/25\n",
            "5/5 [==============================] - 0s 53ms/step - loss: 2.3380e-04 - val_loss: 1.1791e-04\n",
            "Epoch 12/25\n",
            "5/5 [==============================] - 0s 86ms/step - loss: 3.0951e-04 - val_loss: 3.7558e-05\n",
            "Epoch 13/25\n",
            "5/5 [==============================] - 0s 85ms/step - loss: 1.7085e-04 - val_loss: 4.4578e-04\n",
            "Epoch 14/25\n",
            "5/5 [==============================] - 0s 64ms/step - loss: 1.7750e-04 - val_loss: 1.2635e-04\n",
            "Epoch 15/25\n",
            "5/5 [==============================] - 0s 53ms/step - loss: 1.5404e-04 - val_loss: 3.9181e-05\n",
            "Epoch 16/25\n",
            "5/5 [==============================] - 0s 58ms/step - loss: 1.2977e-04 - val_loss: 1.8395e-04\n",
            "Epoch 17/25\n",
            "5/5 [==============================] - 0s 62ms/step - loss: 1.3180e-04 - val_loss: 3.8940e-04\n",
            "Epoch 18/25\n",
            "5/5 [==============================] - 0s 59ms/step - loss: 1.3063e-04 - val_loss: 1.3490e-04\n",
            "Epoch 19/25\n",
            "5/5 [==============================] - 0s 58ms/step - loss: 1.1782e-04 - val_loss: 2.4059e-04\n",
            "Epoch 20/25\n",
            "5/5 [==============================] - 0s 73ms/step - loss: 1.1028e-04 - val_loss: 3.2284e-04\n",
            "Epoch 21/25\n",
            "5/5 [==============================] - 0s 78ms/step - loss: 1.1013e-04 - val_loss: 3.5257e-04\n",
            "Epoch 22/25\n",
            "5/5 [==============================] - 0s 72ms/step - loss: 1.0974e-04 - val_loss: 2.5208e-04\n",
            "Epoch 23/25\n",
            "5/5 [==============================] - 0s 59ms/step - loss: 1.0623e-04 - val_loss: 3.2039e-04\n",
            "Epoch 24/25\n",
            "5/5 [==============================] - 0s 59ms/step - loss: 1.0626e-04 - val_loss: 4.0591e-04\n",
            "Epoch 25/25\n",
            "5/5 [==============================] - 0s 74ms/step - loss: 1.0364e-04 - val_loss: 2.9670e-04\n"
          ]
        }
      ]
    },
    {
      "cell_type": "code",
      "source": [
        "# Extract epoch information\n",
        "epoch_info = pd.DataFrame({\n",
        "    'Epoch': list(range(1, len(history.history['loss']) + 1)),\n",
        "    'Loss': history.history['loss'],\n",
        "    'Validation Loss': history.history['val_loss']\n",
        "})\n",
        "\n",
        "# Display the epoch information table\n",
        "print(\"Epoch Information Table:\")\n",
        "print(epoch_info.to_markdown(index=False))\n"
      ],
      "metadata": {
        "colab": {
          "base_uri": "https://localhost:8080/"
        },
        "id": "sUQr_bbZu_WR",
        "outputId": "21d90453-532a-4f70-d50a-f396ce141a7e"
      },
      "execution_count": null,
      "outputs": [
        {
          "output_type": "stream",
          "name": "stdout",
          "text": [
            "Epoch Information Table:\n",
            "|   Epoch |        Loss |   Validation Loss |\n",
            "|--------:|------------:|------------------:|\n",
            "|       1 | 0.117088    |       0.133208    |\n",
            "|       2 | 0.0118943   |       0.0163511   |\n",
            "|       3 | 0.0157441   |       0.00140281  |\n",
            "|       4 | 0.00289634  |       0.0332023   |\n",
            "|       5 | 0.00677576  |       0.0265785   |\n",
            "|       6 | 0.0028968   |       0.00324114  |\n",
            "|       7 | 0.00179356  |       0.000173344 |\n",
            "|       8 | 0.0015629   |       0.00120073  |\n",
            "|       9 | 0.000508871 |       0.00454178  |\n",
            "|      10 | 0.000682519 |       0.00162718  |\n",
            "|      11 | 0.000233796 |       0.00011791  |\n",
            "|      12 | 0.000309509 |       3.75577e-05 |\n",
            "|      13 | 0.000170855 |       0.00044578  |\n",
            "|      14 | 0.000177502 |       0.000126351 |\n",
            "|      15 | 0.000154036 |       3.91806e-05 |\n",
            "|      16 | 0.000129773 |       0.000183954 |\n",
            "|      17 | 0.000131801 |       0.000389402 |\n",
            "|      18 | 0.000130634 |       0.000134903 |\n",
            "|      19 | 0.000117824 |       0.000240586 |\n",
            "|      20 | 0.000110283 |       0.000322842 |\n",
            "|      21 | 0.000110133 |       0.000352569 |\n",
            "|      22 | 0.000109744 |       0.000252075 |\n",
            "|      23 | 0.000106233 |       0.00032039  |\n",
            "|      24 | 0.000106259 |       0.000405912 |\n",
            "|      25 | 0.00010364  |       0.000296696 |\n"
          ]
        }
      ]
    },
    {
      "cell_type": "code",
      "source": [
        "# Plot training & validation loss values\n",
        "plt.plot(history.history['loss'])\n",
        "plt.plot(history.history['val_loss'])\n",
        "plt.title('Model Loss')\n",
        "plt.xlabel('Epoch')\n",
        "plt.ylabel('Loss')\n",
        "plt.legend(['Train', 'Validation'], loc='upper right')\n",
        "#plt.show()"
      ],
      "metadata": {
        "id": "LYs6DblGt17g",
        "colab": {
          "base_uri": "https://localhost:8080/",
          "height": 489
        },
        "outputId": "0c14510a-e07f-4003-8a90-4928ad9ef7fe"
      },
      "execution_count": null,
      "outputs": [
        {
          "output_type": "execute_result",
          "data": {
            "text/plain": [
              "<matplotlib.legend.Legend at 0x7db0dc306800>"
            ]
          },
          "metadata": {},
          "execution_count": 21
        },
        {
          "output_type": "display_data",
          "data": {
            "text/plain": [
              "<Figure size 640x480 with 1 Axes>"
            ],
            "image/png": "[encoded data removed]"
          },
          "metadata": {}
        }
      ]
    },
    {
      "cell_type": "code",
      "source": [
        "# Forecasting untuk 12 bulan ke depan\n",
        "n_past = 1\n",
        "n_month_prediction = 12\n",
        "predict_period_month = pd.date_range(list(train_datetime)[-n_past], periods=n_month_prediction, freq='M').tolist()\n",
        "print(predict_period_month)"
      ],
      "metadata": {
        "colab": {
          "base_uri": "https://localhost:8080/"
        },
        "id": "RWm3x5v1ssbW",
        "outputId": "e367f0ba-0d0e-434c-d22c-a98431596007"
      },
      "execution_count": null,
      "outputs": [
        {
          "output_type": "stream",
          "name": "stdout",
          "text": [
            "[Timestamp('2022-12-31 00:00:00', freq='M'), Timestamp('2023-01-31 00:00:00', freq='M'), Timestamp('2023-02-28 00:00:00', freq='M'), Timestamp('2023-03-31 00:00:00', freq='M'), Timestamp('2023-04-30 00:00:00', freq='M'), Timestamp('2023-05-31 00:00:00', freq='M'), Timestamp('2023-06-30 00:00:00', freq='M'), Timestamp('2023-07-31 00:00:00', freq='M'), Timestamp('2023-08-31 00:00:00', freq='M'), Timestamp('2023-09-30 00:00:00', freq='M'), Timestamp('2023-10-31 00:00:00', freq='M'), Timestamp('2023-11-30 00:00:00', freq='M')]\n"
          ]
        }
      ]
    },
    {
      "cell_type": "code",
      "source": [
        "LSTM_prediction = model.predict(X_train[-n_month_prediction:])\n",
        "mse = mean_squared_error(y_train[-n_month_prediction:], LSTM_prediction)\n",
        "fmape = np.mean(np.abs((mse) / LSTM_prediction)) * 100\n",
        "mape = f\"{(fmape*100):.2f}%\"\n",
        "mae = np.mean(np.abs((mse) / LSTM_prediction))\n",
        "r2_1 = r2_score(y_train[-n_month_prediction:], LSTM_prediction)\n",
        "print(\"MSE:\", mse)\n",
        "print(\"MAPE:\", mape)\n",
        "print(\"MAE:\", mae)\n",
        "print(\"r-scores:\", r2_1)\n"
      ],
      "metadata": {
        "colab": {
          "base_uri": "https://localhost:8080/"
        },
        "id": "sKWk4vSPvVdk",
        "outputId": "9668db2b-fac4-48b5-814b-3c3d3dbef2a5"
      },
      "execution_count": null,
      "outputs": [
        {
          "output_type": "stream",
          "name": "stdout",
          "text": [
            "1/1 [==============================] - 2s 2s/step\n",
            "MSE: 0.00036680238851869584\n",
            "MAPE: 5.02%\n",
            "MAE: 0.00050171145\n",
            "r-scores: 0.6948798723327229\n"
          ]
        }
      ]
    },
    {
      "cell_type": "code",
      "source": [
        "prediction_copies = np.repeat(LSTM_prediction, data_norm.shape[1], axis=-1)\n",
        "y_pred_future = scaler.inverse_transform(prediction_copies)[:,0]"
      ],
      "metadata": {
        "id": "MptS6DyRv77G"
      },
      "execution_count": null,
      "outputs": []
    },
    {
      "cell_type": "code",
      "source": [
        "forecast_dates = []\n",
        "\n",
        "for time_i in predict_period_month:\n",
        "    forecast_dates.append(time_i.date())\n",
        "\n",
        "df_forecast = pd.DataFrame({'Date': forecast_dates, 'total_visitor': y_pred_future})\n",
        "df_forecast['date'] = pd.to_datetime(df_forecast['Date'])\n",
        "\n",
        "# Assuming 'original' contains the original data with 'Datetime' and 'jumlah_penderita' columns\n",
        "original = data_original[['datetime', 'total_visitor']]\n",
        "original['datetime'] = pd.to_datetime(original['datetime'])\n",
        "original = original.loc[original['datetime'] >= '2014-01-01']\n",
        "\n",
        "sns.lineplot(data=original, x='datetime', y='total_visitor', label='Original')\n",
        "sns.lineplot(data=df_forecast, x='date', y='total_visitor', label='Forecast')\n",
        "\n",
        "plt.xlabel('Year')\n",
        "plt.ylabel('total visitor')\n",
        "plt.title('Forecasted Jumlah Visitor 80:20')\n",
        "plt.legend()\n",
        "plt.show()\n",
        "\n",
        "# Generate the forecast dates from January 2023 to December 2023\n",
        "forecast_dates_1 = pd.date_range(start='2023-01-01', end='2023-12-01', freq='MS')\n",
        "\n",
        "# Create a list of forecast dates and prediction values\n",
        "data = list(zip(forecast_dates_1, y_pred_future))"
      ],
      "metadata": {
        "colab": {
          "base_uri": "https://localhost:8080/",
          "height": 576
        },
        "id": "j7xpHs2kKFj1",
        "outputId": "4cb6ec3b-0707-4c98-e218-3e8bf25c702b"
      },
      "execution_count": null,
      "outputs": [
        {
          "output_type": "stream",
          "name": "stderr",
          "text": [
            "<ipython-input-25-f77aad2a6f7c>:11: SettingWithCopyWarning: \n",
            "A value is trying to be set on a copy of a slice from a DataFrame.\n",
            "Try using .loc[row_indexer,col_indexer] = value instead\n",
            "\n",
            "See the caveats in the documentation: https://pandas.pydata.org/pandas-docs/stable/user_guide/indexing.html#returning-a-view-versus-a-copy\n",
            "  original['datetime'] = pd.to_datetime(original['datetime'])\n"
          ]
        },
        {
          "output_type": "display_data",
          "data": {
            "text/plain": [
              "<Figure size 640x480 with 1 Axes>"
            ],
            "image/png": "[encoded data removed]"
          },
          "metadata": {}
        }
      ]
    },
    {
      "cell_type": "code",
      "source": [
        "# Create a list of forecast dates and prediction values\n",
        "data = list(zip(forecast_dates_1, y_pred_future))\n",
        "\n",
        "# Create a list of headers for the table\n",
        "headers = ['Date', 'Prediction']\n",
        "table = tabulate(data, headers=headers, tablefmt='fancy_grid')\n",
        "# Print the table\n",
        "print(\"Hasil Forecast LSTM scenario 1\")\n",
        "print(table)"
      ],
      "metadata": {
        "colab": {
          "base_uri": "https://localhost:8080/"
        },
        "id": "jMdln2DxwlKJ",
        "outputId": "081acdd1-6e9d-449e-ed33-95473a0c5b39"
      },
      "execution_count": null,
      "outputs": [
        {
          "output_type": "stream",
          "name": "stdout",
          "text": [
            "Hasil Forecast LSTM scenario 1\n",
            "╒═════════════════════╤══════════════╕\n",
            "│ Date                │   Prediction │\n",
            "╞═════════════════════╪══════════════╡\n",
            "│ 2023-01-01 00:00:00 │       212731 │\n",
            "├─────────────────────┼──────────────┤\n",
            "│ 2023-02-01 00:00:00 │       213466 │\n",
            "├─────────────────────┼──────────────┤\n",
            "│ 2023-03-01 00:00:00 │       214198 │\n",
            "├─────────────────────┼──────────────┤\n",
            "│ 2023-04-01 00:00:00 │       214946 │\n",
            "├─────────────────────┼──────────────┤\n",
            "│ 2023-05-01 00:00:00 │       215717 │\n",
            "├─────────────────────┼──────────────┤\n",
            "│ 2023-06-01 00:00:00 │       216462 │\n",
            "├─────────────────────┼──────────────┤\n",
            "│ 2023-07-01 00:00:00 │       217189 │\n",
            "├─────────────────────┼──────────────┤\n",
            "│ 2023-08-01 00:00:00 │       217914 │\n",
            "├─────────────────────┼──────────────┤\n",
            "│ 2023-09-01 00:00:00 │       218654 │\n",
            "├─────────────────────┼──────────────┤\n",
            "│ 2023-10-01 00:00:00 │       219387 │\n",
            "├─────────────────────┼──────────────┤\n",
            "│ 2023-11-01 00:00:00 │       220120 │\n",
            "├─────────────────────┼──────────────┤\n",
            "│ 2023-12-01 00:00:00 │       220821 │\n",
            "╘═════════════════════╧══════════════╛\n"
          ]
        }
      ]
    },
    {
      "cell_type": "markdown",
      "source": [],
      "metadata": {
        "id": "y4xmNjmLsety"
      }
    },
    {
      "cell_type": "markdown",
      "source": [
        "# Skenario 2 - 70:30"
      ],
      "metadata": {
        "id": "ztdLmDyXiNZP"
      }
    },
    {
      "cell_type": "code",
      "source": [
        "data2 = pd.read_csv('https://raw.githubusercontent.com/arvin0711/Kuliah-Predictive-Model-Analytics/main/Jakarta%202015%20-%202022.csv')\n",
        "data_original2 = data2.copy()\n",
        "train_datetime2 = pd.to_datetime(data2['datetime'])\n",
        "data2 = data2.set_index('datetime')\n",
        "data2"
      ],
      "metadata": {
        "colab": {
          "base_uri": "https://localhost:8080/",
          "height": 455
        },
        "id": "TtjD2SFVlfG3",
        "outputId": "42226258-7bb7-4352-8ba8-45646f289e9a"
      },
      "execution_count": null,
      "outputs": [
        {
          "output_type": "execute_result",
          "data": {
            "text/plain": [
              "           total_visitor  total_accomodation\n",
              "datetime                                    \n",
              "1/1/2014          193017               16332\n",
              "2/1/2014          185851               17101\n",
              "3/1/2014          204004               17438\n",
              "4/1/2014          186373               17943\n",
              "5/1/2014          190716               18123\n",
              "...                  ...                 ...\n",
              "8/1/2022          121438               68569\n",
              "9/1/2022          111139               69382\n",
              "10/1/2022         112588               69626\n",
              "11/1/2022         113958               69843\n",
              "12/1/2022         124555               71203\n",
              "\n",
              "[108 rows x 2 columns]"
            ],
            "text/html": [
              "\n",
              "  <div id=\"df-41e587a9-0751-4cf3-8ce6-cf4a0483723a\" class=\"colab-df-container\">\n",
              "    <div>\n",
              "<style scoped>\n",
              "    .dataframe tbody tr th:only-of-type {\n",
              "        vertical-align: middle;\n",
              "    }\n",
              "\n",
              "    .dataframe tbody tr th {\n",
              "        vertical-align: top;\n",
              "    }\n",
              "\n",
              "    .dataframe thead th {\n",
              "        text-align: right;\n",
              "    }\n",
              "</style>\n",
              "<table border=\"1\" class=\"dataframe\">\n",
              "  <thead>\n",
              "    <tr style=\"text-align: right;\">\n",
              "      <th></th>\n",
              "      <th>total_visitor</th>\n",
              "      <th>total_accomodation</th>\n",
              "    </tr>\n",
              "    <tr>\n",
              "      <th>datetime</th>\n",
              "      <th></th>\n",
              "      <th></th>\n",
              "    </tr>\n",
              "  </thead>\n",
              "  <tbody>\n",
              "    <tr>\n",
              "      <th>1/1/2014</th>\n",
              "      <td>193017</td>\n",
              "      <td>16332</td>\n",
              "    </tr>\n",
              "    <tr>\n",
              "      <th>2/1/2014</th>\n",
              "      <td>185851</td>\n",
              "      <td>17101</td>\n",
              "    </tr>\n",
              "    <tr>\n",
              "      <th>3/1/2014</th>\n",
              "      <td>204004</td>\n",
              "      <td>17438</td>\n",
              "    </tr>\n",
              "    <tr>\n",
              "      <th>4/1/2014</th>\n",
              "      <td>186373</td>\n",
              "      <td>17943</td>\n",
              "    </tr>\n",
              "    <tr>\n",
              "      <th>5/1/2014</th>\n",
              "      <td>190716</td>\n",
              "      <td>18123</td>\n",
              "    </tr>\n",
              "    <tr>\n",
              "      <th>...</th>\n",
              "      <td>...</td>\n",
              "      <td>...</td>\n",
              "    </tr>\n",
              "    <tr>\n",
              "      <th>8/1/2022</th>\n",
              "      <td>121438</td>\n",
              "      <td>68569</td>\n",
              "    </tr>\n",
              "    <tr>\n",
              "      <th>9/1/2022</th>\n",
              "      <td>111139</td>\n",
              "      <td>69382</td>\n",
              "    </tr>\n",
              "    <tr>\n",
              "      <th>10/1/2022</th>\n",
              "      <td>112588</td>\n",
              "      <td>69626</td>\n",
              "    </tr>\n",
              "    <tr>\n",
              "      <th>11/1/2022</th>\n",
              "      <td>113958</td>\n",
              "      <td>69843</td>\n",
              "    </tr>\n",
              "    <tr>\n",
              "      <th>12/1/2022</th>\n",
              "      <td>124555</td>\n",
              "      <td>71203</td>\n",
              "    </tr>\n",
              "  </tbody>\n",
              "</table>\n",
              "<p>108 rows × 2 columns</p>\n",
              "</div>\n",
              "    <div class=\"colab-df-buttons\">\n",
              "\n",
              "  <div class=\"colab-df-container\">\n",
              "    <button class=\"colab-df-convert\" onclick=\"convertToInteractive('df-41e587a9-0751-4cf3-8ce6-cf4a0483723a')\"\n",
              "            title=\"Convert this dataframe to an interactive table.\"\n",
              "            style=\"display:none;\">\n",
              "\n",
              "  <svg xmlns=\"http://www.w3.org/2000/svg\" height=\"24px\" viewBox=\"0 -960 960 960\">\n",
              "    <path d=\"M120-120v-720h720v720H120Zm60-500h600v-160H180v160Zm220 220h160v-160H400v160Zm0 220h160v-160H400v160ZM180-400h160v-160H180v160Zm440 0h160v-160H620v160ZM180-180h160v-160H180v160Zm440 0h160v-160H620v160Z\"/>\n",
              "  </svg>\n",
              "    </button>\n",
              "\n",
              "  <style>\n",
              "    .colab-df-container {\n",
              "      display:flex;\n",
              "      gap: 12px;\n",
              "    }\n",
              "\n",
              "    .colab-df-convert {\n",
              "      background-color: #E8F0FE;\n",
              "      border: none;\n",
              "      border-radius: 50%;\n",
              "      cursor: pointer;\n",
              "      display: none;\n",
              "      fill: #1967D2;\n",
              "      height: 32px;\n",
              "      padding: 0 0 0 0;\n",
              "      width: 32px;\n",
              "    }\n",
              "\n",
              "    .colab-df-convert:hover {\n",
              "      background-color: #E2EBFA;\n",
              "      box-shadow: 0px 1px 2px rgba(60, 64, 67, 0.3), 0px 1px 3px 1px rgba(60, 64, 67, 0.15);\n",
              "      fill: #174EA6;\n",
              "    }\n",
              "\n",
              "    .colab-df-buttons div {\n",
              "      margin-bottom: 4px;\n",
              "    }\n",
              "\n",
              "    [theme=dark] .colab-df-convert {\n",
              "      background-color: #3B4455;\n",
              "      fill: #D2E3FC;\n",
              "    }\n",
              "\n",
              "    [theme=dark] .colab-df-convert:hover {\n",
              "      background-color: #434B5C;\n",
              "      box-shadow: 0px 1px 3px 1px rgba(0, 0, 0, 0.15);\n",
              "      filter: drop-shadow(0px 1px 2px rgba(0, 0, 0, 0.3));\n",
              "      fill: #FFFFFF;\n",
              "    }\n",
              "  </style>\n",
              "\n",
              "    <script>\n",
              "      const buttonEl =\n",
              "        document.querySelector('#df-41e587a9-0751-4cf3-8ce6-cf4a0483723a button.colab-df-convert');\n",
              "      buttonEl.style.display =\n",
              "        google.colab.kernel.accessAllowed ? 'block' : 'none';\n",
              "\n",
              "      async function convertToInteractive(key) {\n",
              "        const element = document.querySelector('#df-41e587a9-0751-4cf3-8ce6-cf4a0483723a');\n",
              "        const dataTable =\n",
              "          await google.colab.kernel.invokeFunction('convertToInteractive',\n",
              "                                                    [key], {});\n",
              "        if (!dataTable) return;\n",
              "\n",
              "        const docLinkHtml = 'Like what you see? Visit the ' +\n",
              "          '<a target=\"_blank\" href=https://colab.research.google.com/notebooks/data_table.ipynb>data table notebook</a>'\n",
              "          + ' to learn more about interactive tables.';\n",
              "        element.innerHTML = '';\n",
              "        dataTable['output_type'] = 'display_data';\n",
              "        await google.colab.output.renderOutput(dataTable, element);\n",
              "        const docLink = document.createElement('div');\n",
              "        docLink.innerHTML = docLinkHtml;\n",
              "        element.appendChild(docLink);\n",
              "      }\n",
              "    </script>\n",
              "  </div>\n",
              "\n",
              "\n",
              "<div id=\"df-ad95c11b-add7-4238-8c3e-92649a00c371\">\n",
              "  <button class=\"colab-df-quickchart\" onclick=\"quickchart('df-ad95c11b-add7-4238-8c3e-92649a00c371')\"\n",
              "            title=\"Suggest charts\"\n",
              "            style=\"display:none;\">\n",
              "\n",
              "<svg xmlns=\"http://www.w3.org/2000/svg\" height=\"24px\"viewBox=\"0 0 24 24\"\n",
              "     width=\"24px\">\n",
              "    <g>\n",
              "        <path d=\"M19 3H5c-1.1 0-2 .9-2 2v14c0 1.1.9 2 2 2h14c1.1 0 2-.9 2-2V5c0-1.1-.9-2-2-2zM9 17H7v-7h2v7zm4 0h-2V7h2v10zm4 0h-2v-4h2v4z\"/>\n",
              "    </g>\n",
              "</svg>\n",
              "  </button>\n",
              "\n",
              "<style>\n",
              "  .colab-df-quickchart {\n",
              "      --bg-color: #E8F0FE;\n",
              "      --fill-color: #1967D2;\n",
              "      --hover-bg-color: #E2EBFA;\n",
              "      --hover-fill-color: #174EA6;\n",
              "      --disabled-fill-color: #AAA;\n",
              "      --disabled-bg-color: #DDD;\n",
              "  }\n",
              "\n",
              "  [theme=dark] .colab-df-quickchart {\n",
              "      --bg-color: #3B4455;\n",
              "      --fill-color: #D2E3FC;\n",
              "      --hover-bg-color: #434B5C;\n",
              "      --hover-fill-color: #FFFFFF;\n",
              "      --disabled-bg-color: #3B4455;\n",
              "      --disabled-fill-color: #666;\n",
              "  }\n",
              "\n",
              "  .colab-df-quickchart {\n",
              "    background-color: var(--bg-color);\n",
              "    border: none;\n",
              "    border-radius: 50%;\n",
              "    cursor: pointer;\n",
              "    display: none;\n",
              "    fill: var(--fill-color);\n",
              "    height: 32px;\n",
              "    padding: 0;\n",
              "    width: 32px;\n",
              "  }\n",
              "\n",
              "  .colab-df-quickchart:hover {\n",
              "    background-color: var(--hover-bg-color);\n",
              "    box-shadow: 0 1px 2px rgba(60, 64, 67, 0.3), 0 1px 3px 1px rgba(60, 64, 67, 0.15);\n",
              "    fill: var(--button-hover-fill-color);\n",
              "  }\n",
              "\n",
              "  .colab-df-quickchart-complete:disabled,\n",
              "  .colab-df-quickchart-complete:disabled:hover {\n",
              "    background-color: var(--disabled-bg-color);\n",
              "    fill: var(--disabled-fill-color);\n",
              "    box-shadow: none;\n",
              "  }\n",
              "\n",
              "  .colab-df-spinner {\n",
              "    border: 2px solid var(--fill-color);\n",
              "    border-color: transparent;\n",
              "    border-bottom-color: var(--fill-color);\n",
              "    animation:\n",
              "      spin 1s steps(1) infinite;\n",
              "  }\n",
              "\n",
              "  @keyframes spin {\n",
              "    0% {\n",
              "      border-color: transparent;\n",
              "      border-bottom-color: var(--fill-color);\n",
              "      border-left-color: var(--fill-color);\n",
              "    }\n",
              "    20% {\n",
              "      border-color: transparent;\n",
              "      border-left-color: var(--fill-color);\n",
              "      border-top-color: var(--fill-color);\n",
              "    }\n",
              "    30% {\n",
              "      border-color: transparent;\n",
              "      border-left-color: var(--fill-color);\n",
              "      border-top-color: var(--fill-color);\n",
              "      border-right-color: var(--fill-color);\n",
              "    }\n",
              "    40% {\n",
              "      border-color: transparent;\n",
              "      border-right-color: var(--fill-color);\n",
              "      border-top-color: var(--fill-color);\n",
              "    }\n",
              "    60% {\n",
              "      border-color: transparent;\n",
              "      border-right-color: var(--fill-color);\n",
              "    }\n",
              "    80% {\n",
              "      border-color: transparent;\n",
              "      border-right-color: var(--fill-color);\n",
              "      border-bottom-color: var(--fill-color);\n",
              "    }\n",
              "    90% {\n",
              "      border-color: transparent;\n",
              "      border-bottom-color: var(--fill-color);\n",
              "    }\n",
              "  }\n",
              "</style>\n",
              "\n",
              "  <script>\n",
              "    async function quickchart(key) {\n",
              "      const quickchartButtonEl =\n",
              "        document.querySelector('#' + key + ' button');\n",
              "      quickchartButtonEl.disabled = true;  // To prevent multiple clicks.\n",
              "      quickchartButtonEl.classList.add('colab-df-spinner');\n",
              "      try {\n",
              "        const charts = await google.colab.kernel.invokeFunction(\n",
              "            'suggestCharts', [key], {});\n",
              "      } catch (error) {\n",
              "        console.error('Error during call to suggestCharts:', error);\n",
              "      }\n",
              "      quickchartButtonEl.classList.remove('colab-df-spinner');\n",
              "      quickchartButtonEl.classList.add('colab-df-quickchart-complete');\n",
              "    }\n",
              "    (() => {\n",
              "      let quickchartButtonEl =\n",
              "        document.querySelector('#df-ad95c11b-add7-4238-8c3e-92649a00c371 button');\n",
              "      quickchartButtonEl.style.display =\n",
              "        google.colab.kernel.accessAllowed ? 'block' : 'none';\n",
              "    })();\n",
              "  </script>\n",
              "</div>\n",
              "    </div>\n",
              "  </div>\n"
            ]
          },
          "metadata": {},
          "execution_count": 27
        }
      ]
    },
    {
      "cell_type": "code",
      "source": [
        "#splitting data\n",
        "X_train2, X_test2, y_train2, y_test2 = train_test_split(X, y, test_size = 0.3, shuffle=False)"
      ],
      "metadata": {
        "id": "5kkM2fXFiPf0"
      },
      "execution_count": null,
      "outputs": []
    },
    {
      "cell_type": "code",
      "source": [
        "#Display results\n",
        "lengths = {\n",
        "    'X_train2': len(X_train2),\n",
        "    'y_train2': len(y_train2),\n",
        "    'X_test2': len(X_test2),\n",
        "    'y_test2': len(y_test2),\n",
        "}\n",
        "\n",
        " #Convert lengths to a Pandas DataFrame\n",
        "lengths_df = pd.DataFrame.from_dict(lengths, orient='index', columns=['Length'])\n",
        "\n",
        "print(lengths_df)\n"
      ],
      "metadata": {
        "colab": {
          "base_uri": "https://localhost:8080/"
        },
        "id": "0QDdztGUiV59",
        "outputId": "87bd16df-f5e8-4353-f2a0-c9c79eb2bde4"
      },
      "execution_count": null,
      "outputs": [
        {
          "output_type": "stream",
          "name": "stdout",
          "text": [
            "          Length\n",
            "X_train2      75\n",
            "y_train2      75\n",
            "X_test2       33\n",
            "y_test2       33\n"
          ]
        }
      ]
    },
    {
      "cell_type": "code",
      "source": [
        "# Define sequence length\n",
        "sequence_length = 12\n",
        "\n",
        "# Prepare training and testing data\n",
        "X_train2, y_train2 = data_prep(X_train2, sequence_length)\n",
        "X_test2, y_test2= data_prep(X_test2, sequence_length)\n",
        "\n",
        "# Reshape the data for the RNN model\n",
        "X_train2 = X_train2.reshape((X_train2.shape[0], X_train2.shape[1], 1))\n",
        "X_test2 = X_test2.reshape((X_test2.shape[0], X_test2.shape[1], 1))\n",
        "\n",
        "print('X_train.shape = ', X_train2.shape)\n",
        "print('y_train.shape = ', y_train2.shape)\n",
        "print('X_test.shape = ', X_test2.shape)\n",
        "print('y_test.shape = ', y_test2.shape)"
      ],
      "metadata": {
        "colab": {
          "base_uri": "https://localhost:8080/"
        },
        "id": "HiOSz5z6igmG",
        "outputId": "a38b4322-a914-48bb-f8d1-58c3b913a276"
      },
      "execution_count": null,
      "outputs": [
        {
          "output_type": "stream",
          "name": "stdout",
          "text": [
            "X_train.shape =  (63, 12, 1)\n",
            "y_train.shape =  (63, 1)\n",
            "X_test.shape =  (21, 12, 1)\n",
            "y_test.shape =  (21, 1)\n"
          ]
        }
      ]
    },
    {
      "cell_type": "code",
      "source": [
        "# Build the LSTM model\n",
        "model2 = Sequential()\n",
        "\n",
        "# First LSTM layer\n",
        "model2.add(LSTM(128, activation='tanh', return_sequences=True, input_shape=(X_train2.shape[1], 1))) #\n",
        "\n",
        "# Second LSTM layer\n",
        "model2.add(LSTM(16, activation='tanh'))\n",
        "\n",
        "\n",
        "\n",
        "# Output layer\n",
        "model2.add(Dense(1))\n",
        "\n",
        "model2.compile(optimizer='adam', loss='mse')"
      ],
      "metadata": {
        "id": "LVFT9OCTis9G"
      },
      "execution_count": null,
      "outputs": []
    },
    {
      "cell_type": "code",
      "source": [
        "model2.summary()"
      ],
      "metadata": {
        "colab": {
          "base_uri": "https://localhost:8080/"
        },
        "id": "Yd8RDbOei5Tf",
        "outputId": "7571d347-a510-4382-8cb7-bfe167bde34e"
      },
      "execution_count": null,
      "outputs": [
        {
          "output_type": "stream",
          "name": "stdout",
          "text": [
            "Model: \"sequential_1\"\n",
            "_________________________________________________________________\n",
            " Layer (type)                Output Shape              Param #   \n",
            "=================================================================\n",
            " lstm_2 (LSTM)               (None, 12, 128)           66560     \n",
            "                                                                 \n",
            " lstm_3 (LSTM)               (None, 16)                9280      \n",
            "                                                                 \n",
            " dense_1 (Dense)             (None, 1)                 17        \n",
            "                                                                 \n",
            "=================================================================\n",
            "Total params: 75857 (296.32 KB)\n",
            "Trainable params: 75857 (296.32 KB)\n",
            "Non-trainable params: 0 (0.00 Byte)\n",
            "_________________________________________________________________\n"
          ]
        }
      ]
    },
    {
      "cell_type": "code",
      "source": [
        "# Define callbacks\n",
        "early_stopping = EarlyStopping(monitor='val_loss', patience=16, restore_best_weights=True)\n",
        "\n",
        "# Train the model\n",
        "history2 = model2.fit(\n",
        "    X_train2, y_train2,\n",
        "    epochs=25,\n",
        "    batch_size=12,\n",
        "    validation_split=0.2,  # Use part of the training data as validation\n",
        "    callbacks=[early_stopping])"
      ],
      "metadata": {
        "colab": {
          "base_uri": "https://localhost:8080/"
        },
        "id": "srv0_QKKi_ne",
        "outputId": "d08330e9-1ea8-4373-e1cd-e137777fc0ea"
      },
      "execution_count": null,
      "outputs": [
        {
          "output_type": "stream",
          "name": "stdout",
          "text": [
            "Epoch 1/25\n",
            "5/5 [==============================] - 5s 263ms/step - loss: 0.0710 - val_loss: 0.0164\n",
            "Epoch 2/25\n",
            "5/5 [==============================] - 0s 31ms/step - loss: 0.0063 - val_loss: 0.0160\n",
            "Epoch 3/25\n",
            "5/5 [==============================] - 0s 26ms/step - loss: 0.0060 - val_loss: 0.0043\n",
            "Epoch 4/25\n",
            "5/5 [==============================] - 0s 25ms/step - loss: 0.0024 - val_loss: 0.0134\n",
            "Epoch 5/25\n",
            "5/5 [==============================] - 0s 32ms/step - loss: 0.0027 - val_loss: 0.0017\n",
            "Epoch 6/25\n",
            "5/5 [==============================] - 0s 30ms/step - loss: 7.7748e-04 - val_loss: 0.0025\n",
            "Epoch 7/25\n",
            "5/5 [==============================] - 0s 28ms/step - loss: 0.0011 - val_loss: 1.2235e-04\n",
            "Epoch 8/25\n",
            "5/5 [==============================] - 0s 26ms/step - loss: 2.3143e-04 - val_loss: 8.4206e-04\n",
            "Epoch 9/25\n",
            "5/5 [==============================] - 0s 29ms/step - loss: 5.1068e-04 - val_loss: 3.5546e-05\n",
            "Epoch 10/25\n",
            "5/5 [==============================] - 0s 28ms/step - loss: 1.9094e-04 - val_loss: 0.0012\n",
            "Epoch 11/25\n",
            "5/5 [==============================] - 0s 29ms/step - loss: 1.6113e-04 - val_loss: 1.3015e-04\n",
            "Epoch 12/25\n",
            "5/5 [==============================] - 0s 30ms/step - loss: 1.6123e-04 - val_loss: 3.4227e-05\n",
            "Epoch 13/25\n",
            "5/5 [==============================] - 0s 27ms/step - loss: 1.4536e-04 - val_loss: 3.3261e-04\n",
            "Epoch 14/25\n",
            "5/5 [==============================] - 0s 26ms/step - loss: 1.3467e-04 - val_loss: 7.3091e-04\n",
            "Epoch 15/25\n",
            "5/5 [==============================] - 0s 26ms/step - loss: 1.3712e-04 - val_loss: 1.2333e-04\n",
            "Epoch 16/25\n",
            "5/5 [==============================] - 0s 26ms/step - loss: 1.1598e-04 - val_loss: 6.6154e-05\n",
            "Epoch 17/25\n",
            "5/5 [==============================] - 0s 32ms/step - loss: 1.0492e-04 - val_loss: 2.4040e-04\n",
            "Epoch 18/25\n",
            "5/5 [==============================] - 0s 30ms/step - loss: 1.0462e-04 - val_loss: 2.7952e-04\n",
            "Epoch 19/25\n",
            "5/5 [==============================] - 0s 30ms/step - loss: 9.6666e-05 - val_loss: 9.1654e-05\n",
            "Epoch 20/25\n",
            "5/5 [==============================] - 0s 31ms/step - loss: 1.0948e-04 - val_loss: 1.8698e-04\n",
            "Epoch 21/25\n",
            "5/5 [==============================] - 0s 29ms/step - loss: 1.0092e-04 - val_loss: 5.1943e-04\n",
            "Epoch 22/25\n",
            "5/5 [==============================] - 0s 28ms/step - loss: 1.1199e-04 - val_loss: 1.2429e-04\n",
            "Epoch 23/25\n",
            "5/5 [==============================] - 0s 25ms/step - loss: 1.0289e-04 - val_loss: 6.9756e-05\n",
            "Epoch 24/25\n",
            "5/5 [==============================] - 0s 28ms/step - loss: 9.7142e-05 - val_loss: 2.5023e-04\n",
            "Epoch 25/25\n",
            "5/5 [==============================] - 0s 29ms/step - loss: 9.9988e-05 - val_loss: 1.3699e-04\n"
          ]
        }
      ]
    },
    {
      "cell_type": "code",
      "source": [
        "# Extract epoch information\n",
        "epoch_info = pd.DataFrame({\n",
        "    'Epoch': list(range(1, len(history2.history['loss']) + 1)),\n",
        "    'Loss': history2.history['loss'],\n",
        "    'Validation Loss': history.history['val_loss']\n",
        "})\n",
        "\n",
        "# Display the epoch information table\n",
        "print(\"Epoch Information Table:\")\n",
        "print(epoch_info.to_markdown(index=False))\n"
      ],
      "metadata": {
        "colab": {
          "base_uri": "https://localhost:8080/"
        },
        "id": "O-MHRoilvGkV",
        "outputId": "01bedb97-b6bc-49f4-8812-7754778ca9a5"
      },
      "execution_count": null,
      "outputs": [
        {
          "output_type": "stream",
          "name": "stdout",
          "text": [
            "Epoch Information Table:\n",
            "|   Epoch |        Loss |   Validation Loss |\n",
            "|--------:|------------:|------------------:|\n",
            "|       1 | 0.0710438   |       0.133208    |\n",
            "|       2 | 0.00627723  |       0.0163511   |\n",
            "|       3 | 0.00598741  |       0.00140281  |\n",
            "|       4 | 0.0023737   |       0.0332023   |\n",
            "|       5 | 0.002718    |       0.0265785   |\n",
            "|       6 | 0.000777483 |       0.00324114  |\n",
            "|       7 | 0.00105839  |       0.000173344 |\n",
            "|       8 | 0.000231426 |       0.00120073  |\n",
            "|       9 | 0.000510681 |       0.00454178  |\n",
            "|      10 | 0.00019094  |       0.00162718  |\n",
            "|      11 | 0.000161126 |       0.00011791  |\n",
            "|      12 | 0.000161226 |       3.75577e-05 |\n",
            "|      13 | 0.000145362 |       0.00044578  |\n",
            "|      14 | 0.000134668 |       0.000126351 |\n",
            "|      15 | 0.000137124 |       3.91806e-05 |\n",
            "|      16 | 0.000115977 |       0.000183954 |\n",
            "|      17 | 0.000104919 |       0.000389402 |\n",
            "|      18 | 0.000104615 |       0.000134903 |\n",
            "|      19 | 9.66657e-05 |       0.000240586 |\n",
            "|      20 | 0.000109476 |       0.000322842 |\n",
            "|      21 | 0.000100916 |       0.000352569 |\n",
            "|      22 | 0.000111987 |       0.000252075 |\n",
            "|      23 | 0.000102893 |       0.00032039  |\n",
            "|      24 | 9.7142e-05  |       0.000405912 |\n",
            "|      25 | 9.99879e-05 |       0.000296696 |\n"
          ]
        }
      ]
    },
    {
      "cell_type": "code",
      "source": [
        "# Plot training & validation loss values\n",
        "plt.plot(history2.history['loss'])\n",
        "plt.plot(history2.history['val_loss'])\n",
        "plt.title('Model Loss')\n",
        "plt.xlabel('Epoch')\n",
        "plt.ylabel('Loss')\n",
        "plt.legend(['Train', 'Validation'], loc='upper right')\n",
        "#plt.show()"
      ],
      "metadata": {
        "colab": {
          "base_uri": "https://localhost:8080/",
          "height": 489
        },
        "id": "iU83Q3qtjEFt",
        "outputId": "ec4b7722-2bfa-4437-9843-4637b83cceff"
      },
      "execution_count": null,
      "outputs": [
        {
          "output_type": "execute_result",
          "data": {
            "text/plain": [
              "<matplotlib.legend.Legend at 0x7db0dc090d60>"
            ]
          },
          "metadata": {},
          "execution_count": 35
        },
        {
          "output_type": "display_data",
          "data": {
            "text/plain": [
              "<Figure size 640x480 with 1 Axes>"
            ],
            "image/png": "[encoded data removed]"
          },
          "metadata": {}
        }
      ]
    },
    {
      "cell_type": "code",
      "source": [
        "# Forecasting untuk 12 bulan ke depan\n",
        "n_past2 = 1\n",
        "n_month_prediction2 = 12\n",
        "predict_period_month2 = pd.date_range(list(train_datetime)[-n_past2], periods=n_month_prediction2, freq='M').tolist()\n",
        "print(predict_period_month2)"
      ],
      "metadata": {
        "colab": {
          "base_uri": "https://localhost:8080/"
        },
        "id": "5SUFmvahjJt1",
        "outputId": "a4a4aea9-d7a8-403e-da89-fe6ca8c90895"
      },
      "execution_count": null,
      "outputs": [
        {
          "output_type": "stream",
          "name": "stdout",
          "text": [
            "[Timestamp('2022-12-31 00:00:00', freq='M'), Timestamp('2023-01-31 00:00:00', freq='M'), Timestamp('2023-02-28 00:00:00', freq='M'), Timestamp('2023-03-31 00:00:00', freq='M'), Timestamp('2023-04-30 00:00:00', freq='M'), Timestamp('2023-05-31 00:00:00', freq='M'), Timestamp('2023-06-30 00:00:00', freq='M'), Timestamp('2023-07-31 00:00:00', freq='M'), Timestamp('2023-08-31 00:00:00', freq='M'), Timestamp('2023-09-30 00:00:00', freq='M'), Timestamp('2023-10-31 00:00:00', freq='M'), Timestamp('2023-11-30 00:00:00', freq='M')]\n"
          ]
        }
      ]
    },
    {
      "cell_type": "code",
      "source": [
        "LSTM_prediction2 = model2.predict(X_train2[-n_month_prediction2:])\n",
        "mse2 = mean_squared_error(y_train2[-n_month_prediction2:], LSTM_prediction2)\n",
        "fmape2 = np.mean(np.abs((mse2) / LSTM_prediction2)) * 100\n",
        "mape2 = f\"{(fmape2*100):.2f}%\"\n",
        "mae2 = np.mean(np.abs((mse2) / LSTM_prediction2))\n",
        "r2_2 = r2_score(y_train2[-n_month_prediction2:], LSTM_prediction2)\n",
        "\n",
        "\n",
        "print(\"MSE:\", mse2)\n",
        "print(\"MAPE:\", mape2)\n",
        "print(\"MAE:\", mae2)\n",
        "print(\"R-score:\", r2_2)\n"
      ],
      "metadata": {
        "colab": {
          "base_uri": "https://localhost:8080/"
        },
        "id": "XU4ADPXUmHii",
        "outputId": "aea53796-2d7d-4524-f9a5-b5a254d3a35f"
      },
      "execution_count": null,
      "outputs": [
        {
          "output_type": "stream",
          "name": "stdout",
          "text": [
            "1/1 [==============================] - 1s 833ms/step\n",
            "MSE: 0.0001263676179965858\n",
            "MAPE: 1.96%\n",
            "MAE: 0.00019553541\n",
            "R-score: 0.8951450254202525\n"
          ]
        }
      ]
    },
    {
      "cell_type": "code",
      "source": [
        "prediction_copies2 = np.repeat(LSTM_prediction2, data2.shape[1], axis=-1)\n",
        "y_pred_future2 = scaler.inverse_transform(prediction_copies2)[:,0]"
      ],
      "metadata": {
        "id": "dAUwLVKlj8C3"
      },
      "execution_count": null,
      "outputs": []
    },
    {
      "cell_type": "code",
      "source": [
        "forecast_dates2 = []\n",
        "\n",
        "for time_i in predict_period_month2:\n",
        "    forecast_dates2.append(time_i.date())\n",
        "\n",
        "df_forecast2 = pd.DataFrame({'Date': forecast_dates2, 'total_visitor': y_pred_future2})\n",
        "df_forecast2['date'] = pd.to_datetime(df_forecast2['Date'])\n",
        "\n",
        "# Assuming 'original' contains the original data with 'Datetime' and 'jumlah_penderita' columns\n",
        "original2 = data_original2[['datetime', 'total_visitor']]\n",
        "original2['datetime'] = pd.to_datetime(original2['datetime'])\n",
        "original2 = original2.loc[original2['datetime'] >= '2014-01-01']\n",
        "\n",
        "sns.lineplot(data=original2, x='datetime', y='total_visitor', label='Original')\n",
        "sns.lineplot(data=df_forecast2, x='date', y='total_visitor', label='Forecast')\n",
        "\n",
        "plt.xlabel('Year')\n",
        "plt.ylabel('total visitor')\n",
        "plt.title('Forecasted Jumlah Visitors 70:30')\n",
        "plt.legend()\n",
        "plt.show()\n",
        "\n",
        "# Generate the forecast dates from January 2023 to December 2023\n",
        "forecast_dates2 = pd.date_range(start='2023-01-01', end='2023-12-01', freq='MS')\n",
        "\n",
        "# Create a list of forecast dates and prediction values\n",
        "data = list(zip(forecast_dates2, y_pred_future2))"
      ],
      "metadata": {
        "colab": {
          "base_uri": "https://localhost:8080/",
          "height": 576
        },
        "id": "9UYoWEzSkHYi",
        "outputId": "101b0df1-cb71-4929-f53a-b7cb03eaf0c7"
      },
      "execution_count": null,
      "outputs": [
        {
          "output_type": "stream",
          "name": "stderr",
          "text": [
            "<ipython-input-39-82f1e076fdcd>:11: SettingWithCopyWarning: \n",
            "A value is trying to be set on a copy of a slice from a DataFrame.\n",
            "Try using .loc[row_indexer,col_indexer] = value instead\n",
            "\n",
            "See the caveats in the documentation: https://pandas.pydata.org/pandas-docs/stable/user_guide/indexing.html#returning-a-view-versus-a-copy\n",
            "  original2['datetime'] = pd.to_datetime(original2['datetime'])\n"
          ]
        },
        {
          "output_type": "display_data",
          "data": {
            "text/plain": [
              "<Figure size 640x480 with 1 Axes>"
            ],
            "image/png": "[encoded data removed]"
          },
          "metadata": {}
        }
      ]
    },
    {
      "cell_type": "code",
      "source": [
        "# Create a list of forecast dates and prediction values\n",
        "data2 = list(zip(forecast_dates2, y_pred_future2))\n",
        "\n",
        "# Create a list of headers for the table\n",
        "headers = ['Date', 'Prediction']\n",
        "table2 = tabulate(data2, headers=headers, tablefmt='fancy_grid')\n",
        "# Print the table\n",
        "print(\"Hasil Forecast LSTM scenario 2\")\n",
        "print(table2)"
      ],
      "metadata": {
        "colab": {
          "base_uri": "https://localhost:8080/"
        },
        "id": "LZo8FslvmXuM",
        "outputId": "05ded389-d5e4-4a81-9ad0-dd396e498844"
      },
      "execution_count": null,
      "outputs": [
        {
          "output_type": "stream",
          "name": "stdout",
          "text": [
            "Hasil Forecast LSTM scenario 2\n",
            "╒═════════════════════╤══════════════╕\n",
            "│ Date                │   Prediction │\n",
            "╞═════════════════════╪══════════════╡\n",
            "│ 2023-01-01 00:00:00 │       205384 │\n",
            "├─────────────────────┼──────────────┤\n",
            "│ 2023-02-01 00:00:00 │       206106 │\n",
            "├─────────────────────┼──────────────┤\n",
            "│ 2023-03-01 00:00:00 │       206814 │\n",
            "├─────────────────────┼──────────────┤\n",
            "│ 2023-04-01 00:00:00 │       207493 │\n",
            "├─────────────────────┼──────────────┤\n",
            "│ 2023-05-01 00:00:00 │       208191 │\n",
            "├─────────────────────┼──────────────┤\n",
            "│ 2023-06-01 00:00:00 │       208923 │\n",
            "├─────────────────────┼──────────────┤\n",
            "│ 2023-07-01 00:00:00 │       209679 │\n",
            "├─────────────────────┼──────────────┤\n",
            "│ 2023-08-01 00:00:00 │       210458 │\n",
            "├─────────────────────┼──────────────┤\n",
            "│ 2023-09-01 00:00:00 │       211222 │\n",
            "├─────────────────────┼──────────────┤\n",
            "│ 2023-10-01 00:00:00 │       211961 │\n",
            "├─────────────────────┼──────────────┤\n",
            "│ 2023-11-01 00:00:00 │       212726 │\n",
            "├─────────────────────┼──────────────┤\n",
            "│ 2023-12-01 00:00:00 │       213496 │\n",
            "╘═════════════════════╧══════════════╛\n"
          ]
        }
      ]
    },
    {
      "cell_type": "code",
      "source": [
        "data3 = pd.read_csv('https://raw.githubusercontent.com/arvin0711/Kuliah-Predictive-Model-Analytics/main/Jakarta%202015%20-%202022.csv')\n",
        "data_original3 = data3.copy()\n",
        "train_datetime3 = pd.to_datetime(data3['datetime'])\n",
        "data3 = data3.set_index('datetime')\n",
        "data3"
      ],
      "metadata": {
        "colab": {
          "base_uri": "https://localhost:8080/",
          "height": 455
        },
        "id": "7Yl5kWfUttBu",
        "outputId": "4c781067-3ff8-4ed6-af85-f808f42df8d4"
      },
      "execution_count": null,
      "outputs": [
        {
          "output_type": "execute_result",
          "data": {
            "text/plain": [
              "           total_visitor  total_accomodation\n",
              "datetime                                    \n",
              "1/1/2014          193017               16332\n",
              "2/1/2014          185851               17101\n",
              "3/1/2014          204004               17438\n",
              "4/1/2014          186373               17943\n",
              "5/1/2014          190716               18123\n",
              "...                  ...                 ...\n",
              "8/1/2022          121438               68569\n",
              "9/1/2022          111139               69382\n",
              "10/1/2022         112588               69626\n",
              "11/1/2022         113958               69843\n",
              "12/1/2022         124555               71203\n",
              "\n",
              "[108 rows x 2 columns]"
            ],
            "text/html": [
              "\n",
              "  <div id=\"df-6b54850f-b389-422c-96e7-f5b22d35e003\" class=\"colab-df-container\">\n",
              "    <div>\n",
              "<style scoped>\n",
              "    .dataframe tbody tr th:only-of-type {\n",
              "        vertical-align: middle;\n",
              "    }\n",
              "\n",
              "    .dataframe tbody tr th {\n",
              "        vertical-align: top;\n",
              "    }\n",
              "\n",
              "    .dataframe thead th {\n",
              "        text-align: right;\n",
              "    }\n",
              "</style>\n",
              "<table border=\"1\" class=\"dataframe\">\n",
              "  <thead>\n",
              "    <tr style=\"text-align: right;\">\n",
              "      <th></th>\n",
              "      <th>total_visitor</th>\n",
              "      <th>total_accomodation</th>\n",
              "    </tr>\n",
              "    <tr>\n",
              "      <th>datetime</th>\n",
              "      <th></th>\n",
              "      <th></th>\n",
              "    </tr>\n",
              "  </thead>\n",
              "  <tbody>\n",
              "    <tr>\n",
              "      <th>1/1/2014</th>\n",
              "      <td>193017</td>\n",
              "      <td>16332</td>\n",
              "    </tr>\n",
              "    <tr>\n",
              "      <th>2/1/2014</th>\n",
              "      <td>185851</td>\n",
              "      <td>17101</td>\n",
              "    </tr>\n",
              "    <tr>\n",
              "      <th>3/1/2014</th>\n",
              "      <td>204004</td>\n",
              "      <td>17438</td>\n",
              "    </tr>\n",
              "    <tr>\n",
              "      <th>4/1/2014</th>\n",
              "      <td>186373</td>\n",
              "      <td>17943</td>\n",
              "    </tr>\n",
              "    <tr>\n",
              "      <th>5/1/2014</th>\n",
              "      <td>190716</td>\n",
              "      <td>18123</td>\n",
              "    </tr>\n",
              "    <tr>\n",
              "      <th>...</th>\n",
              "      <td>...</td>\n",
              "      <td>...</td>\n",
              "    </tr>\n",
              "    <tr>\n",
              "      <th>8/1/2022</th>\n",
              "      <td>121438</td>\n",
              "      <td>68569</td>\n",
              "    </tr>\n",
              "    <tr>\n",
              "      <th>9/1/2022</th>\n",
              "      <td>111139</td>\n",
              "      <td>69382</td>\n",
              "    </tr>\n",
              "    <tr>\n",
              "      <th>10/1/2022</th>\n",
              "      <td>112588</td>\n",
              "      <td>69626</td>\n",
              "    </tr>\n",
              "    <tr>\n",
              "      <th>11/1/2022</th>\n",
              "      <td>113958</td>\n",
              "      <td>69843</td>\n",
              "    </tr>\n",
              "    <tr>\n",
              "      <th>12/1/2022</th>\n",
              "      <td>124555</td>\n",
              "      <td>71203</td>\n",
              "    </tr>\n",
              "  </tbody>\n",
              "</table>\n",
              "<p>108 rows × 2 columns</p>\n",
              "</div>\n",
              "    <div class=\"colab-df-buttons\">\n",
              "\n",
              "  <div class=\"colab-df-container\">\n",
              "    <button class=\"colab-df-convert\" onclick=\"convertToInteractive('df-6b54850f-b389-422c-96e7-f5b22d35e003')\"\n",
              "            title=\"Convert this dataframe to an interactive table.\"\n",
              "            style=\"display:none;\">\n",
              "\n",
              "  <svg xmlns=\"http://www.w3.org/2000/svg\" height=\"24px\" viewBox=\"0 -960 960 960\">\n",
              "    <path d=\"M120-120v-720h720v720H120Zm60-500h600v-160H180v160Zm220 220h160v-160H400v160Zm0 220h160v-160H400v160ZM180-400h160v-160H180v160Zm440 0h160v-160H620v160ZM180-180h160v-160H180v160Zm440 0h160v-160H620v160Z\"/>\n",
              "  </svg>\n",
              "    </button>\n",
              "\n",
              "  <style>\n",
              "    .colab-df-container {\n",
              "      display:flex;\n",
              "      gap: 12px;\n",
              "    }\n",
              "\n",
              "    .colab-df-convert {\n",
              "      background-color: #E8F0FE;\n",
              "      border: none;\n",
              "      border-radius: 50%;\n",
              "      cursor: pointer;\n",
              "      display: none;\n",
              "      fill: #1967D2;\n",
              "      height: 32px;\n",
              "      padding: 0 0 0 0;\n",
              "      width: 32px;\n",
              "    }\n",
              "\n",
              "    .colab-df-convert:hover {\n",
              "      background-color: #E2EBFA;\n",
              "      box-shadow: 0px 1px 2px rgba(60, 64, 67, 0.3), 0px 1px 3px 1px rgba(60, 64, 67, 0.15);\n",
              "      fill: #174EA6;\n",
              "    }\n",
              "\n",
              "    .colab-df-buttons div {\n",
              "      margin-bottom: 4px;\n",
              "    }\n",
              "\n",
              "    [theme=dark] .colab-df-convert {\n",
              "      background-color: #3B4455;\n",
              "      fill: #D2E3FC;\n",
              "    }\n",
              "\n",
              "    [theme=dark] .colab-df-convert:hover {\n",
              "      background-color: #434B5C;\n",
              "      box-shadow: 0px 1px 3px 1px rgba(0, 0, 0, 0.15);\n",
              "      filter: drop-shadow(0px 1px 2px rgba(0, 0, 0, 0.3));\n",
              "      fill: #FFFFFF;\n",
              "    }\n",
              "  </style>\n",
              "\n",
              "    <script>\n",
              "      const buttonEl =\n",
              "        document.querySelector('#df-6b54850f-b389-422c-96e7-f5b22d35e003 button.colab-df-convert');\n",
              "      buttonEl.style.display =\n",
              "        google.colab.kernel.accessAllowed ? 'block' : 'none';\n",
              "\n",
              "      async function convertToInteractive(key) {\n",
              "        const element = document.querySelector('#df-6b54850f-b389-422c-96e7-f5b22d35e003');\n",
              "        const dataTable =\n",
              "          await google.colab.kernel.invokeFunction('convertToInteractive',\n",
              "                                                    [key], {});\n",
              "        if (!dataTable) return;\n",
              "\n",
              "        const docLinkHtml = 'Like what you see? Visit the ' +\n",
              "          '<a target=\"_blank\" href=https://colab.research.google.com/notebooks/data_table.ipynb>data table notebook</a>'\n",
              "          + ' to learn more about interactive tables.';\n",
              "        element.innerHTML = '';\n",
              "        dataTable['output_type'] = 'display_data';\n",
              "        await google.colab.output.renderOutput(dataTable, element);\n",
              "        const docLink = document.createElement('div');\n",
              "        docLink.innerHTML = docLinkHtml;\n",
              "        element.appendChild(docLink);\n",
              "      }\n",
              "    </script>\n",
              "  </div>\n",
              "\n",
              "\n",
              "<div id=\"df-45854fb8-2957-4d68-a947-290e4faacdf4\">\n",
              "  <button class=\"colab-df-quickchart\" onclick=\"quickchart('df-45854fb8-2957-4d68-a947-290e4faacdf4')\"\n",
              "            title=\"Suggest charts\"\n",
              "            style=\"display:none;\">\n",
              "\n",
              "<svg xmlns=\"http://www.w3.org/2000/svg\" height=\"24px\"viewBox=\"0 0 24 24\"\n",
              "     width=\"24px\">\n",
              "    <g>\n",
              "        <path d=\"M19 3H5c-1.1 0-2 .9-2 2v14c0 1.1.9 2 2 2h14c1.1 0 2-.9 2-2V5c0-1.1-.9-2-2-2zM9 17H7v-7h2v7zm4 0h-2V7h2v10zm4 0h-2v-4h2v4z\"/>\n",
              "    </g>\n",
              "</svg>\n",
              "  </button>\n",
              "\n",
              "<style>\n",
              "  .colab-df-quickchart {\n",
              "      --bg-color: #E8F0FE;\n",
              "      --fill-color: #1967D2;\n",
              "      --hover-bg-color: #E2EBFA;\n",
              "      --hover-fill-color: #174EA6;\n",
              "      --disabled-fill-color: #AAA;\n",
              "      --disabled-bg-color: #DDD;\n",
              "  }\n",
              "\n",
              "  [theme=dark] .colab-df-quickchart {\n",
              "      --bg-color: #3B4455;\n",
              "      --fill-color: #D2E3FC;\n",
              "      --hover-bg-color: #434B5C;\n",
              "      --hover-fill-color: #FFFFFF;\n",
              "      --disabled-bg-color: #3B4455;\n",
              "      --disabled-fill-color: #666;\n",
              "  }\n",
              "\n",
              "  .colab-df-quickchart {\n",
              "    background-color: var(--bg-color);\n",
              "    border: none;\n",
              "    border-radius: 50%;\n",
              "    cursor: pointer;\n",
              "    display: none;\n",
              "    fill: var(--fill-color);\n",
              "    height: 32px;\n",
              "    padding: 0;\n",
              "    width: 32px;\n",
              "  }\n",
              "\n",
              "  .colab-df-quickchart:hover {\n",
              "    background-color: var(--hover-bg-color);\n",
              "    box-shadow: 0 1px 2px rgba(60, 64, 67, 0.3), 0 1px 3px 1px rgba(60, 64, 67, 0.15);\n",
              "    fill: var(--button-hover-fill-color);\n",
              "  }\n",
              "\n",
              "  .colab-df-quickchart-complete:disabled,\n",
              "  .colab-df-quickchart-complete:disabled:hover {\n",
              "    background-color: var(--disabled-bg-color);\n",
              "    fill: var(--disabled-fill-color);\n",
              "    box-shadow: none;\n",
              "  }\n",
              "\n",
              "  .colab-df-spinner {\n",
              "    border: 2px solid var(--fill-color);\n",
              "    border-color: transparent;\n",
              "    border-bottom-color: var(--fill-color);\n",
              "    animation:\n",
              "      spin 1s steps(1) infinite;\n",
              "  }\n",
              "\n",
              "  @keyframes spin {\n",
              "    0% {\n",
              "      border-color: transparent;\n",
              "      border-bottom-color: var(--fill-color);\n",
              "      border-left-color: var(--fill-color);\n",
              "    }\n",
              "    20% {\n",
              "      border-color: transparent;\n",
              "      border-left-color: var(--fill-color);\n",
              "      border-top-color: var(--fill-color);\n",
              "    }\n",
              "    30% {\n",
              "      border-color: transparent;\n",
              "      border-left-color: var(--fill-color);\n",
              "      border-top-color: var(--fill-color);\n",
              "      border-right-color: var(--fill-color);\n",
              "    }\n",
              "    40% {\n",
              "      border-color: transparent;\n",
              "      border-right-color: var(--fill-color);\n",
              "      border-top-color: var(--fill-color);\n",
              "    }\n",
              "    60% {\n",
              "      border-color: transparent;\n",
              "      border-right-color: var(--fill-color);\n",
              "    }\n",
              "    80% {\n",
              "      border-color: transparent;\n",
              "      border-right-color: var(--fill-color);\n",
              "      border-bottom-color: var(--fill-color);\n",
              "    }\n",
              "    90% {\n",
              "      border-color: transparent;\n",
              "      border-bottom-color: var(--fill-color);\n",
              "    }\n",
              "  }\n",
              "</style>\n",
              "\n",
              "  <script>\n",
              "    async function quickchart(key) {\n",
              "      const quickchartButtonEl =\n",
              "        document.querySelector('#' + key + ' button');\n",
              "      quickchartButtonEl.disabled = true;  // To prevent multiple clicks.\n",
              "      quickchartButtonEl.classList.add('colab-df-spinner');\n",
              "      try {\n",
              "        const charts = await google.colab.kernel.invokeFunction(\n",
              "            'suggestCharts', [key], {});\n",
              "      } catch (error) {\n",
              "        console.error('Error during call to suggestCharts:', error);\n",
              "      }\n",
              "      quickchartButtonEl.classList.remove('colab-df-spinner');\n",
              "      quickchartButtonEl.classList.add('colab-df-quickchart-complete');\n",
              "    }\n",
              "    (() => {\n",
              "      let quickchartButtonEl =\n",
              "        document.querySelector('#df-45854fb8-2957-4d68-a947-290e4faacdf4 button');\n",
              "      quickchartButtonEl.style.display =\n",
              "        google.colab.kernel.accessAllowed ? 'block' : 'none';\n",
              "    })();\n",
              "  </script>\n",
              "</div>\n",
              "    </div>\n",
              "  </div>\n"
            ]
          },
          "metadata": {},
          "execution_count": 41
        }
      ]
    },
    {
      "cell_type": "markdown",
      "source": [
        "# Skenario 3 - 60:40"
      ],
      "metadata": {
        "id": "ep80REmCtoe1"
      }
    },
    {
      "cell_type": "code",
      "source": [
        "#splitting data\n",
        "X_train3, X_test3, y_train3, y_test3 = train_test_split(X, y, test_size = 0.4, shuffle=False)"
      ],
      "metadata": {
        "id": "0jgGZ-CFt0s5"
      },
      "execution_count": null,
      "outputs": []
    },
    {
      "cell_type": "code",
      "source": [
        "#Display results\n",
        "lengths = {\n",
        "    'X_train2': len(X_train3),\n",
        "    'y_train2': len(y_train3),\n",
        "    'X_test2': len(X_test3),\n",
        "    'y_test2': len(y_test3),\n",
        "}\n",
        "\n",
        " #Convert lengths to a Pandas DataFrame\n",
        "lengths_df = pd.DataFrame.from_dict(lengths, orient='index', columns=['Length'])\n",
        "\n",
        "print(lengths_df)"
      ],
      "metadata": {
        "colab": {
          "base_uri": "https://localhost:8080/"
        },
        "id": "i4lN-frvuAU1",
        "outputId": "b95c7fd4-4a3b-4ac8-f2b2-6dcfe1afe73a"
      },
      "execution_count": null,
      "outputs": [
        {
          "output_type": "stream",
          "name": "stdout",
          "text": [
            "          Length\n",
            "X_train2      64\n",
            "y_train2      64\n",
            "X_test2       44\n",
            "y_test2       44\n"
          ]
        }
      ]
    },
    {
      "cell_type": "code",
      "source": [
        "# Define sequence length\n",
        "sequence_length = 12\n",
        "\n",
        "# Prepare training and testing data\n",
        "X_train3, y_train3 = data_prep(X_train3, sequence_length)\n",
        "X_test3, y_test3= data_prep(X_test3, sequence_length)\n",
        "\n",
        "# Reshape the data for the RNN model\n",
        "X_train3 = X_train3.reshape((X_train3.shape[0], X_train3.shape[1], 1))\n",
        "X_test3 = X_test3.reshape((X_test3.shape[0], X_test3.shape[1], 1))\n",
        "\n",
        "print('X_train.shape = ', X_train3.shape)\n",
        "print('y_train.shape = ', y_train3.shape)\n",
        "print('X_test.shape = ', X_test3.shape)\n",
        "print('y_test.shape = ', y_test3.shape)"
      ],
      "metadata": {
        "colab": {
          "base_uri": "https://localhost:8080/"
        },
        "id": "thrfPla_uFld",
        "outputId": "9a78dea8-ffaa-4e2f-d02c-34e0d6db1657"
      },
      "execution_count": null,
      "outputs": [
        {
          "output_type": "stream",
          "name": "stdout",
          "text": [
            "X_train.shape =  (52, 12, 1)\n",
            "y_train.shape =  (52, 1)\n",
            "X_test.shape =  (32, 12, 1)\n",
            "y_test.shape =  (32, 1)\n"
          ]
        }
      ]
    },
    {
      "cell_type": "code",
      "source": [
        "# Build the LSTM model\n",
        "model3 = Sequential()\n",
        "\n",
        "# First LSTM layer\n",
        "model3.add(LSTM(128, activation='tanh', return_sequences=True, input_shape=(X_train2.shape[1], 1))) #\n",
        "\n",
        "# Second LSTM layer\n",
        "model3.add(LSTM(16, activation='tanh'))\n",
        "\n",
        "\n",
        "\n",
        "# Output layer\n",
        "model3.add(Dense(1))\n",
        "\n",
        "model3.compile(optimizer='adam', loss='mse')"
      ],
      "metadata": {
        "id": "syEi6IRBuRMe"
      },
      "execution_count": null,
      "outputs": []
    },
    {
      "cell_type": "code",
      "source": [
        "model3.summary()"
      ],
      "metadata": {
        "colab": {
          "base_uri": "https://localhost:8080/"
        },
        "id": "Su8Bd-21uVfJ",
        "outputId": "ea12c4ef-034e-46b1-c780-2aee172a334f"
      },
      "execution_count": null,
      "outputs": [
        {
          "output_type": "stream",
          "name": "stdout",
          "text": [
            "Model: \"sequential_3\"\n",
            "_________________________________________________________________\n",
            " Layer (type)                Output Shape              Param #   \n",
            "=================================================================\n",
            " lstm_6 (LSTM)               (None, 12, 128)           66560     \n",
            "                                                                 \n",
            " lstm_7 (LSTM)               (None, 16)                9280      \n",
            "                                                                 \n",
            " dense_3 (Dense)             (None, 1)                 17        \n",
            "                                                                 \n",
            "=================================================================\n",
            "Total params: 75857 (296.32 KB)\n",
            "Trainable params: 75857 (296.32 KB)\n",
            "Non-trainable params: 0 (0.00 Byte)\n",
            "_________________________________________________________________\n"
          ]
        }
      ]
    },
    {
      "cell_type": "code",
      "source": [
        "# Define callbacks\n",
        "early_stopping = EarlyStopping(monitor='val_loss', patience=16, restore_best_weights=True)\n",
        "\n",
        "# Train the model\n",
        "history3 = model3.fit(\n",
        "    X_train3, y_train3,\n",
        "    epochs=25,\n",
        "    batch_size=12,\n",
        "    validation_split=0.2,  # Use part of the training data as validation\n",
        "    callbacks=[early_stopping])"
      ],
      "metadata": {
        "colab": {
          "base_uri": "https://localhost:8080/"
        },
        "id": "vmXYkRo8uX69",
        "outputId": "d9a97651-fcfe-45ac-8481-bd602240c00f"
      },
      "execution_count": null,
      "outputs": [
        {
          "output_type": "stream",
          "name": "stdout",
          "text": [
            "Epoch 1/25\n",
            "4/4 [==============================] - 6s 317ms/step - loss: 0.0694 - val_loss: 0.1012\n",
            "Epoch 2/25\n",
            "4/4 [==============================] - 0s 27ms/step - loss: 0.0139 - val_loss: 3.5605e-04\n",
            "Epoch 3/25\n",
            "4/4 [==============================] - 0s 26ms/step - loss: 0.0082 - val_loss: 0.0098\n",
            "Epoch 4/25\n",
            "4/4 [==============================] - 0s 30ms/step - loss: 0.0048 - val_loss: 0.0030\n",
            "Epoch 5/25\n",
            "4/4 [==============================] - 0s 29ms/step - loss: 0.0018 - val_loss: 0.0138\n",
            "Epoch 6/25\n",
            "4/4 [==============================] - 0s 29ms/step - loss: 0.0034 - val_loss: 0.0081\n",
            "Epoch 7/25\n",
            "4/4 [==============================] - 0s 29ms/step - loss: 0.0016 - val_loss: 5.8906e-04\n",
            "Epoch 8/25\n",
            "4/4 [==============================] - 0s 32ms/step - loss: 7.0474e-04 - val_loss: 0.0014\n",
            "Epoch 9/25\n",
            "4/4 [==============================] - 0s 29ms/step - loss: 0.0012 - val_loss: 0.0010\n",
            "Epoch 10/25\n",
            "4/4 [==============================] - 0s 27ms/step - loss: 3.7634e-04 - val_loss: 8.8446e-05\n",
            "Epoch 11/25\n",
            "4/4 [==============================] - 0s 28ms/step - loss: 3.6229e-04 - val_loss: 1.9761e-04\n",
            "Epoch 12/25\n",
            "4/4 [==============================] - 0s 29ms/step - loss: 3.2748e-04 - val_loss: 5.9528e-04\n",
            "Epoch 13/25\n",
            "4/4 [==============================] - 0s 46ms/step - loss: 8.6256e-05 - val_loss: 0.0030\n",
            "Epoch 14/25\n",
            "4/4 [==============================] - 0s 42ms/step - loss: 1.4664e-04 - val_loss: 0.0025\n",
            "Epoch 15/25\n",
            "4/4 [==============================] - 0s 41ms/step - loss: 4.9350e-05 - val_loss: 9.9473e-04\n",
            "Epoch 16/25\n",
            "4/4 [==============================] - 0s 44ms/step - loss: 1.0882e-04 - val_loss: 0.0013\n",
            "Epoch 17/25\n",
            "4/4 [==============================] - 0s 40ms/step - loss: 5.8455e-05 - val_loss: 0.0025\n",
            "Epoch 18/25\n",
            "4/4 [==============================] - 0s 40ms/step - loss: 6.8623e-05 - val_loss: 0.0026\n",
            "Epoch 19/25\n",
            "4/4 [==============================] - 0s 43ms/step - loss: 5.6756e-05 - val_loss: 0.0015\n",
            "Epoch 20/25\n",
            "4/4 [==============================] - 0s 44ms/step - loss: 5.4710e-05 - val_loss: 0.0013\n",
            "Epoch 21/25\n",
            "4/4 [==============================] - 0s 39ms/step - loss: 4.9384e-05 - val_loss: 0.0018\n",
            "Epoch 22/25\n",
            "4/4 [==============================] - 0s 42ms/step - loss: 4.9212e-05 - val_loss: 0.0019\n",
            "Epoch 23/25\n",
            "4/4 [==============================] - 0s 39ms/step - loss: 4.5928e-05 - val_loss: 0.0014\n",
            "Epoch 24/25\n",
            "4/4 [==============================] - 0s 40ms/step - loss: 4.8014e-05 - val_loss: 0.0012\n",
            "Epoch 25/25\n",
            "4/4 [==============================] - 0s 46ms/step - loss: 5.0488e-05 - val_loss: 0.0015\n"
          ]
        }
      ]
    },
    {
      "cell_type": "code",
      "source": [
        "# Extract epoch information\n",
        "epoch_info = pd.DataFrame({\n",
        "    'Epoch': list(range(1, len(history3.history['loss']) + 1)),\n",
        "    'Loss': history3.history['loss'],\n",
        "    'Validation Loss': history.history['val_loss']\n",
        "})\n",
        "\n",
        "# Display the epoch information table\n",
        "print(\"Epoch Information Table:\")\n",
        "print(epoch_info.to_markdown(index=False))\n"
      ],
      "metadata": {
        "colab": {
          "base_uri": "https://localhost:8080/"
        },
        "id": "JKjGJrOXvOKh",
        "outputId": "94c66bb9-de7a-45b6-8035-71d8c32959b2"
      },
      "execution_count": null,
      "outputs": [
        {
          "output_type": "stream",
          "name": "stdout",
          "text": [
            "Epoch Information Table:\n",
            "|   Epoch |        Loss |   Validation Loss |\n",
            "|--------:|------------:|------------------:|\n",
            "|       1 | 0.0693654   |       0.133208    |\n",
            "|       2 | 0.013915    |       0.0163511   |\n",
            "|       3 | 0.0082053   |       0.00140281  |\n",
            "|       4 | 0.00479858  |       0.0332023   |\n",
            "|       5 | 0.00183982  |       0.0265785   |\n",
            "|       6 | 0.00341944  |       0.00324114  |\n",
            "|       7 | 0.00155284  |       0.000173344 |\n",
            "|       8 | 0.000704736 |       0.00120073  |\n",
            "|       9 | 0.00115251  |       0.00454178  |\n",
            "|      10 | 0.00037634  |       0.00162718  |\n",
            "|      11 | 0.000362285 |       0.00011791  |\n",
            "|      12 | 0.000327479 |       3.75577e-05 |\n",
            "|      13 | 8.62563e-05 |       0.00044578  |\n",
            "|      14 | 0.000146641 |       0.000126351 |\n",
            "|      15 | 4.93498e-05 |       3.91806e-05 |\n",
            "|      16 | 0.000108822 |       0.000183954 |\n",
            "|      17 | 5.84547e-05 |       0.000389402 |\n",
            "|      18 | 6.86232e-05 |       0.000134903 |\n",
            "|      19 | 5.6756e-05  |       0.000240586 |\n",
            "|      20 | 5.47095e-05 |       0.000322842 |\n",
            "|      21 | 4.93839e-05 |       0.000352569 |\n",
            "|      22 | 4.92123e-05 |       0.000252075 |\n",
            "|      23 | 4.59279e-05 |       0.00032039  |\n",
            "|      24 | 4.80137e-05 |       0.000405912 |\n",
            "|      25 | 5.04879e-05 |       0.000296696 |\n"
          ]
        }
      ]
    },
    {
      "cell_type": "code",
      "source": [
        "# Plot training & validation loss values\n",
        "plt.plot(history3.history['loss'])\n",
        "plt.plot(history3.history['val_loss'])\n",
        "plt.title('Model Loss')\n",
        "plt.xlabel('Epoch')\n",
        "plt.ylabel('Loss')\n",
        "plt.legend(['Train', 'Validation'], loc='upper right')\n",
        "#plt.show()"
      ],
      "metadata": {
        "colab": {
          "base_uri": "https://localhost:8080/",
          "height": 489
        },
        "id": "VTkL418qufUp",
        "outputId": "6cc4fe7b-798e-4f11-b9bf-e88939b0a4e4"
      },
      "execution_count": null,
      "outputs": [
        {
          "output_type": "execute_result",
          "data": {
            "text/plain": [
              "<matplotlib.legend.Legend at 0x7db0e05cf8b0>"
            ]
          },
          "metadata": {},
          "execution_count": 61
        },
        {
          "output_type": "display_data",
          "data": {
            "text/plain": [
              "<Figure size 640x480 with 1 Axes>"
            ],
            "image/png": "[encoded data removed]"
          },
          "metadata": {}
        }
      ]
    },
    {
      "cell_type": "code",
      "source": [
        "# Forecasting untuk 12 bulan ke depan\n",
        "n_past3 = 1\n",
        "n_month_prediction3 = 12\n",
        "predict_period_month3 = pd.date_range(list(train_datetime)[-n_past3], periods=n_month_prediction3, freq='M').tolist()\n",
        "print(predict_period_month3)"
      ],
      "metadata": {
        "colab": {
          "base_uri": "https://localhost:8080/"
        },
        "id": "EIthZO1jui05",
        "outputId": "3a9c3c77-1194-46b9-c22c-4b8e2398385e"
      },
      "execution_count": null,
      "outputs": [
        {
          "output_type": "stream",
          "name": "stdout",
          "text": [
            "[Timestamp('2022-12-31 00:00:00', freq='M'), Timestamp('2023-01-31 00:00:00', freq='M'), Timestamp('2023-02-28 00:00:00', freq='M'), Timestamp('2023-03-31 00:00:00', freq='M'), Timestamp('2023-04-30 00:00:00', freq='M'), Timestamp('2023-05-31 00:00:00', freq='M'), Timestamp('2023-06-30 00:00:00', freq='M'), Timestamp('2023-07-31 00:00:00', freq='M'), Timestamp('2023-08-31 00:00:00', freq='M'), Timestamp('2023-09-30 00:00:00', freq='M'), Timestamp('2023-10-31 00:00:00', freq='M'), Timestamp('2023-11-30 00:00:00', freq='M')]\n"
          ]
        }
      ]
    },
    {
      "cell_type": "code",
      "source": [
        "LSTM_prediction3 = model3.predict(X_train3[-n_month_prediction3:])\n",
        "mse3 = mean_squared_error(y_train3[-n_month_prediction3:], LSTM_prediction3)\n",
        "fmape3 = np.mean(np.abs((mse3) / LSTM_prediction3)) * 100\n",
        "mape3 = f\"{(fmape3*100):.2f}%\"\n",
        "mae3 = np.mean(np.abs((mse3) / LSTM_prediction3))\n",
        "r2_3 = r2_score(y_train3[-n_month_prediction3:], LSTM_prediction3)\n",
        "\n",
        "print(\"MSE:\", mse3)\n",
        "print(\"MAPE:\", mape3)\n",
        "print(\"MAE:\", mae3)\n",
        "print(\"R-score:\", r2_3)"
      ],
      "metadata": {
        "colab": {
          "base_uri": "https://localhost:8080/"
        },
        "id": "DM8IEEU6vBgf",
        "outputId": "c54f3eab-f429-4591-a9c3-16eeec465dfa"
      },
      "execution_count": null,
      "outputs": [
        {
          "output_type": "stream",
          "name": "stdout",
          "text": [
            "1/1 [==============================] - 1s 1s/step\n",
            "MSE: 0.0013599395085895861\n",
            "MAPE: 23.84%\n",
            "MAE: 0.0023843886\n",
            "R-score: -0.5380070049222583\n"
          ]
        }
      ]
    },
    {
      "cell_type": "code",
      "source": [
        "prediction_copies3 = np.repeat(LSTM_prediction3, data3.shape[1], axis=-1)\n",
        "y_pred_future3 = scaler.inverse_transform(prediction_copies3)[:,0]"
      ],
      "metadata": {
        "id": "GmGJi3iEu6qZ"
      },
      "execution_count": null,
      "outputs": []
    },
    {
      "cell_type": "code",
      "source": [
        "forecast_dates3 = []\n",
        "\n",
        "for time_i in predict_period_month3:\n",
        "    forecast_dates3.append(time_i.date())\n",
        "\n",
        "df_forecast3 = pd.DataFrame({'Date': forecast_dates3, 'total_visitor': y_pred_future3})\n",
        "df_forecast3['date'] = pd.to_datetime(df_forecast3['Date'])\n",
        "\n",
        "# Assuming 'original' contains the original data with 'Datetime' and 'jumlah_penderita' columns\n",
        "original3 = data_original3[['datetime', 'total_visitor']]\n",
        "original3['datetime'] = pd.to_datetime(original3['datetime'])\n",
        "original3 = original3.loc[original3['datetime'] >= '2014-01-01']\n",
        "\n",
        "sns.lineplot(data=original3, x='datetime', y='total_visitor', label='Original')\n",
        "sns.lineplot(data=df_forecast3, x='date', y='total_visitor', label='Forecast')\n",
        "\n",
        "plt.xlabel('Year')\n",
        "plt.ylabel('total visitor')\n",
        "plt.title('Forecasted Jumlah Visitors 60:40')\n",
        "plt.legend()\n",
        "plt.show()\n",
        "\n",
        "# Generate the forecast dates from January 2023 to December 2023\n",
        "forecast_dates3 = pd.date_range(start='2023-01-01', end='2023-12-01', freq='MS')\n",
        "\n",
        "# Create a list of forecast dates and prediction values\n",
        "data3 = list(zip(forecast_dates3, y_pred_future3))"
      ],
      "metadata": {
        "colab": {
          "base_uri": "https://localhost:8080/",
          "height": 576
        },
        "id": "6rILGEFLvbf9",
        "outputId": "6a981f7b-4171-424c-adc2-ae1020f7f638"
      },
      "execution_count": null,
      "outputs": [
        {
          "output_type": "stream",
          "name": "stderr",
          "text": [
            "<ipython-input-65-4e7d83f930aa>:11: SettingWithCopyWarning: \n",
            "A value is trying to be set on a copy of a slice from a DataFrame.\n",
            "Try using .loc[row_indexer,col_indexer] = value instead\n",
            "\n",
            "See the caveats in the documentation: https://pandas.pydata.org/pandas-docs/stable/user_guide/indexing.html#returning-a-view-versus-a-copy\n",
            "  original3['datetime'] = pd.to_datetime(original3['datetime'])\n"
          ]
        },
        {
          "output_type": "display_data",
          "data": {
            "text/plain": [
              "<Figure size 640x480 with 1 Axes>"
            ],
            "image/png": "[encoded data removed]"
          },
          "metadata": {}
        }
      ]
    },
    {
      "cell_type": "code",
      "source": [
        "# Create a list of forecast dates and prediction values\n",
        "data3 = list(zip(forecast_dates3, y_pred_future3))\n",
        "\n",
        "# Create a list of headers for the table\n",
        "headers = ['Date', 'Prediction']\n",
        "table3 = tabulate(data3, headers=headers, tablefmt='fancy_grid')\n",
        "# Print the table\n",
        "print(\"Hasil Forecast LSTM scenario 3\")\n",
        "print(table3)"
      ],
      "metadata": {
        "colab": {
          "base_uri": "https://localhost:8080/"
        },
        "id": "6J6iaA2PvuiB",
        "outputId": "ead32c29-75e9-469b-c172-3d8790c1b3fc"
      },
      "execution_count": null,
      "outputs": [
        {
          "output_type": "stream",
          "name": "stdout",
          "text": [
            "Hasil Forecast LSTM scenario 3\n",
            "╒═════════════════════╤══════════════╕\n",
            "│ Date                │   Prediction │\n",
            "╞═════════════════════╪══════════════╡\n",
            "│ 2023-01-01 00:00:00 │       196617 │\n",
            "├─────────────────────┼──────────────┤\n",
            "│ 2023-02-01 00:00:00 │       197912 │\n",
            "├─────────────────────┼──────────────┤\n",
            "│ 2023-03-01 00:00:00 │       199175 │\n",
            "├─────────────────────┼──────────────┤\n",
            "│ 2023-04-01 00:00:00 │       200404 │\n",
            "├─────────────────────┼──────────────┤\n",
            "│ 2023-05-01 00:00:00 │       201574 │\n",
            "├─────────────────────┼──────────────┤\n",
            "│ 2023-06-01 00:00:00 │       202667 │\n",
            "├─────────────────────┼──────────────┤\n",
            "│ 2023-07-01 00:00:00 │       203676 │\n",
            "├─────────────────────┼──────────────┤\n",
            "│ 2023-08-01 00:00:00 │       204630 │\n",
            "├─────────────────────┼──────────────┤\n",
            "│ 2023-09-01 00:00:00 │       205558 │\n",
            "├─────────────────────┼──────────────┤\n",
            "│ 2023-10-01 00:00:00 │       206492 │\n",
            "├─────────────────────┼──────────────┤\n",
            "│ 2023-11-01 00:00:00 │       207407 │\n",
            "├─────────────────────┼──────────────┤\n",
            "│ 2023-12-01 00:00:00 │       208276 │\n",
            "╘═════════════════════╧══════════════╛\n"
          ]
        }
      ]
    },
    {
      "cell_type": "markdown",
      "source": [
        "# Comparison Scenario"
      ],
      "metadata": {
        "id": "1UlMzmi7TQNN"
      }
    },
    {
      "cell_type": "code",
      "source": [
        "\n",
        "# Define the data for each scenario\n",
        "comparison_error = [\n",
        "    {\n",
        "        'Scenario': 'Scenario 1',\n",
        "        'Model': 'LSTM',\n",
        "        'MAPE': mape,\n",
        "        'MAE': mae,\n",
        "        'MSE': mse,\n",
        "        'R2': r2_1\n",
        "    },\n",
        "    {\n",
        "        'Scenario': 'Scenario 2',\n",
        "        'Model': 'LSTM',\n",
        "        'MAPE': mape2,\n",
        "        'MAE': mae2,\n",
        "        'MSE': mse2,\n",
        "        'R2': r2_2\n",
        "    },\n",
        "    {\n",
        "        'Scenario': 'Scenario 3',\n",
        "        'Model': 'LSTM',\n",
        "        'MAPE': mape3,\n",
        "        'MAE': mae3,\n",
        "        'MSE': mse3,\n",
        "        'R2': r2_3\n",
        "    }\n",
        "]\n",
        "\n",
        "# Create a DataFrame from the scenario data\n",
        "df = pd.DataFrame(comparison_error)\n",
        "\n",
        "# Convert DataFrame to a list of rows\n",
        "rows = df.values.tolist()\n",
        "\n",
        "# Create a list of headers\n",
        "headers = df.columns.tolist()\n",
        "\n",
        "# Generate the table\n",
        "table = tabulate(rows, headers=headers, tablefmt='fancy_grid')\n",
        "\n",
        "# Print the table\n",
        "print(table)"
      ],
      "metadata": {
        "colab": {
          "base_uri": "https://localhost:8080/"
        },
        "id": "HJidtPK9TGHA",
        "outputId": "7be477a1-7742-42a4-9bf0-6e6ae9f3be55"
      },
      "execution_count": null,
      "outputs": [
        {
          "output_type": "stream",
          "name": "stdout",
          "text": [
            "╒════════════╤═════════╤════════╤═════════════╤═════════════╤═══════════╕\n",
            "│ Scenario   │ Model   │ MAPE   │         MAE │         MSE │        R2 │\n",
            "╞════════════╪═════════╪════════╪═════════════╪═════════════╪═══════════╡\n",
            "│ Scenario 1 │ LSTM    │ 5.02%  │ 0.000501711 │ 0.000366802 │  0.69488  │\n",
            "├────────────┼─────────┼────────┼─────────────┼─────────────┼───────────┤\n",
            "│ Scenario 2 │ LSTM    │ 1.96%  │ 0.000195535 │ 0.000126368 │  0.895145 │\n",
            "├────────────┼─────────┼────────┼─────────────┼─────────────┼───────────┤\n",
            "│ Scenario 3 │ LSTM    │ 23.84% │ 0.00238439  │ 0.00135994  │ -0.538007 │\n",
            "╘════════════╧═════════╧════════╧═════════════╧═════════════╧═══════════╛\n"
          ]
        }
      ]
    },
    {
      "cell_type": "code",
      "source": [
        "# Plot the wider graph\n",
        "plt.figure(figsize=(18, 6))\n",
        "sns.lineplot(data=original, x='datetime', y='total_visitor', label='Original')\n",
        "sns.lineplot(data=df_forecast, x='date', y='total_visitor', label='Scenario 1')\n",
        "sns.lineplot(data=df_forecast2, x='date', y='total_visitor', label='Scenario 2')\n",
        "sns.lineplot(data=df_forecast3, x='date', y='total_visitor', label='Scenario 3')\n",
        "\n",
        "plt.xlabel('Year')\n",
        "plt.ylabel('Total Visitor')\n",
        "plt.title('Comparison of Forecasted Data with the Original Data')\n",
        "plt.legend()\n",
        "plt.show()"
      ],
      "metadata": {
        "colab": {
          "base_uri": "https://localhost:8080/",
          "height": 516
        },
        "id": "Au2nNtC4PlPW",
        "outputId": "8372626f-0d1f-4bc5-c781-1e5152af21bc"
      },
      "execution_count": null,
      "outputs": [
        {
          "output_type": "display_data",
          "data": {
            "text/plain": [
              "<Figure size 1800x600 with 1 Axes>"
            ],
            "image/png": "[encoded data removed]"
          },
          "metadata": {}
        }
      ]
    }
  ]
}